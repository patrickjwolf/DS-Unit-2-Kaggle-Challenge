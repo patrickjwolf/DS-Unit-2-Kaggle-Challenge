{
  "nbformat": 4,
  "nbformat_minor": 0,
  "metadata": {
    "colab": {
      "name": "Patrick_Wolf_assignment_kaggle_challenge_2.ipynb",
      "provenance": [],
      "collapsed_sections": [],
      "include_colab_link": true
    },
    "kernelspec": {
      "display_name": "Python 3",
      "language": "python",
      "name": "python3"
    },
    "language_info": {
      "codemirror_mode": {
        "name": "ipython",
        "version": 3
      },
      "file_extension": ".py",
      "mimetype": "text/x-python",
      "name": "python",
      "nbconvert_exporter": "python",
      "pygments_lexer": "ipython3",
      "version": "3.7.3"
    },
    "widgets": {
      "application/vnd.jupyter.widget-state+json": {
        "1a91e438640f4f59a16e2ab31b4e2a8c": {
          "model_module": "@jupyter-widgets/controls",
          "model_name": "VBoxModel",
          "state": {
            "_view_name": "VBoxView",
            "_dom_classes": [
              "widget-interact"
            ],
            "_model_name": "VBoxModel",
            "_view_module": "@jupyter-widgets/controls",
            "_model_module_version": "1.5.0",
            "_view_count": null,
            "_view_module_version": "1.5.0",
            "box_style": "",
            "layout": "IPY_MODEL_4852ab1bb78b49b2a280054afda310d7",
            "_model_module": "@jupyter-widgets/controls",
            "children": [
              "IPY_MODEL_f043940b3a364d8294c7e0c191dcd69b",
              "IPY_MODEL_495728a733254b2d96fbe4d49705df9e",
              "IPY_MODEL_7e943f269b4e4234ba9f7146129f0be3"
            ]
          }
        },
        "4852ab1bb78b49b2a280054afda310d7": {
          "model_module": "@jupyter-widgets/base",
          "model_name": "LayoutModel",
          "state": {
            "_view_name": "LayoutView",
            "grid_template_rows": null,
            "right": null,
            "justify_content": null,
            "_view_module": "@jupyter-widgets/base",
            "overflow": null,
            "_model_module_version": "1.2.0",
            "_view_count": null,
            "flex_flow": null,
            "width": null,
            "min_width": null,
            "border": null,
            "align_items": null,
            "bottom": null,
            "_model_module": "@jupyter-widgets/base",
            "top": null,
            "grid_column": null,
            "overflow_y": null,
            "overflow_x": null,
            "grid_auto_flow": null,
            "grid_area": null,
            "grid_template_columns": null,
            "flex": null,
            "_model_name": "LayoutModel",
            "justify_items": null,
            "grid_row": null,
            "max_height": null,
            "align_content": null,
            "visibility": null,
            "align_self": null,
            "height": null,
            "min_height": null,
            "padding": null,
            "grid_auto_rows": null,
            "grid_gap": null,
            "max_width": null,
            "order": null,
            "_view_module_version": "1.2.0",
            "grid_template_areas": null,
            "object_position": null,
            "object_fit": null,
            "grid_auto_columns": null,
            "margin": null,
            "display": null,
            "left": null
          }
        },
        "f043940b3a364d8294c7e0c191dcd69b": {
          "model_module": "@jupyter-widgets/controls",
          "model_name": "IntSliderModel",
          "state": {
            "_view_name": "IntSliderView",
            "style": "IPY_MODEL_733ee2b187ac4572abe1aed407564e42",
            "_dom_classes": [],
            "description": "max_depth",
            "step": 1,
            "_model_name": "IntSliderModel",
            "orientation": "horizontal",
            "max": 6,
            "_view_module": "@jupyter-widgets/controls",
            "_model_module_version": "1.5.0",
            "value": 1,
            "_view_count": null,
            "disabled": false,
            "_view_module_version": "1.5.0",
            "min": 1,
            "continuous_update": true,
            "readout_format": "d",
            "description_tooltip": null,
            "readout": true,
            "_model_module": "@jupyter-widgets/controls",
            "layout": "IPY_MODEL_9f58fcc96a9943d8bdc8226b451a5c07"
          }
        },
        "495728a733254b2d96fbe4d49705df9e": {
          "model_module": "@jupyter-widgets/controls",
          "model_name": "IntSliderModel",
          "state": {
            "_view_name": "IntSliderView",
            "style": "IPY_MODEL_fb1934aa26a24858ba678eab4d0837da",
            "_dom_classes": [],
            "description": "n_estimators",
            "step": 10,
            "_model_name": "IntSliderModel",
            "orientation": "horizontal",
            "max": 40,
            "_view_module": "@jupyter-widgets/controls",
            "_model_module_version": "1.5.0",
            "value": 10,
            "_view_count": null,
            "disabled": false,
            "_view_module_version": "1.5.0",
            "min": 10,
            "continuous_update": true,
            "readout_format": "d",
            "description_tooltip": null,
            "readout": true,
            "_model_module": "@jupyter-widgets/controls",
            "layout": "IPY_MODEL_88b4b0bc2fcf482b94c6a25e961b04d0"
          }
        },
        "7e943f269b4e4234ba9f7146129f0be3": {
          "model_module": "@jupyter-widgets/output",
          "model_name": "OutputModel",
          "state": {
            "_view_name": "OutputView",
            "msg_id": "",
            "_dom_classes": [],
            "_model_name": "OutputModel",
            "outputs": [
              {
                "output_type": "display_data",
                "metadata": {
                  "tags": []
                },
                "image/png": "iVBORw0KGgoAAAANSUhEUgAAAYIAAAEWCAYAAABrDZDcAAAABHNCSVQICAgIfAhkiAAAAAlwSFlz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\nYBnD+cx4AAAAAElFTkSuQmCC\n",
                "text/plain": "<Figure size 432x288 with 1 Axes>"
              },
              {
                "output_type": "display_data",
                "metadata": {
                  "tags": []
                },
                "image/png": "iVBORw0KGgoAAAANSUhEUgAAAYIAAAEWCAYAAABrDZDcAAAABHNCSVQICAgIfAhkiAAAAAlwSFlz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\n",
                "text/plain": "<Figure size 432x288 with 1 Axes>"
              }
            ],
            "_view_module": "@jupyter-widgets/output",
            "_model_module_version": "1.0.0",
            "_view_count": null,
            "_view_module_version": "1.0.0",
            "layout": "IPY_MODEL_f49ec2ea39b74ddcb99448e423aec8a7",
            "_model_module": "@jupyter-widgets/output"
          }
        },
        "733ee2b187ac4572abe1aed407564e42": {
          "model_module": "@jupyter-widgets/controls",
          "model_name": "SliderStyleModel",
          "state": {
            "_view_name": "StyleView",
            "handle_color": null,
            "_model_name": "SliderStyleModel",
            "description_width": "",
            "_view_module": "@jupyter-widgets/base",
            "_model_module_version": "1.5.0",
            "_view_count": null,
            "_view_module_version": "1.2.0",
            "_model_module": "@jupyter-widgets/controls"
          }
        },
        "9f58fcc96a9943d8bdc8226b451a5c07": {
          "model_module": "@jupyter-widgets/base",
          "model_name": "LayoutModel",
          "state": {
            "_view_name": "LayoutView",
            "grid_template_rows": null,
            "right": null,
            "justify_content": null,
            "_view_module": "@jupyter-widgets/base",
            "overflow": null,
            "_model_module_version": "1.2.0",
            "_view_count": null,
            "flex_flow": null,
            "width": null,
            "min_width": null,
            "border": null,
            "align_items": null,
            "bottom": null,
            "_model_module": "@jupyter-widgets/base",
            "top": null,
            "grid_column": null,
            "overflow_y": null,
            "overflow_x": null,
            "grid_auto_flow": null,
            "grid_area": null,
            "grid_template_columns": null,
            "flex": null,
            "_model_name": "LayoutModel",
            "justify_items": null,
            "grid_row": null,
            "max_height": null,
            "align_content": null,
            "visibility": null,
            "align_self": null,
            "height": null,
            "min_height": null,
            "padding": null,
            "grid_auto_rows": null,
            "grid_gap": null,
            "max_width": null,
            "order": null,
            "_view_module_version": "1.2.0",
            "grid_template_areas": null,
            "object_position": null,
            "object_fit": null,
            "grid_auto_columns": null,
            "margin": null,
            "display": null,
            "left": null
          }
        },
        "fb1934aa26a24858ba678eab4d0837da": {
          "model_module": "@jupyter-widgets/controls",
          "model_name": "SliderStyleModel",
          "state": {
            "_view_name": "StyleView",
            "handle_color": null,
            "_model_name": "SliderStyleModel",
            "description_width": "",
            "_view_module": "@jupyter-widgets/base",
            "_model_module_version": "1.5.0",
            "_view_count": null,
            "_view_module_version": "1.2.0",
            "_model_module": "@jupyter-widgets/controls"
          }
        },
        "88b4b0bc2fcf482b94c6a25e961b04d0": {
          "model_module": "@jupyter-widgets/base",
          "model_name": "LayoutModel",
          "state": {
            "_view_name": "LayoutView",
            "grid_template_rows": null,
            "right": null,
            "justify_content": null,
            "_view_module": "@jupyter-widgets/base",
            "overflow": null,
            "_model_module_version": "1.2.0",
            "_view_count": null,
            "flex_flow": null,
            "width": null,
            "min_width": null,
            "border": null,
            "align_items": null,
            "bottom": null,
            "_model_module": "@jupyter-widgets/base",
            "top": null,
            "grid_column": null,
            "overflow_y": null,
            "overflow_x": null,
            "grid_auto_flow": null,
            "grid_area": null,
            "grid_template_columns": null,
            "flex": null,
            "_model_name": "LayoutModel",
            "justify_items": null,
            "grid_row": null,
            "max_height": null,
            "align_content": null,
            "visibility": null,
            "align_self": null,
            "height": null,
            "min_height": null,
            "padding": null,
            "grid_auto_rows": null,
            "grid_gap": null,
            "max_width": null,
            "order": null,
            "_view_module_version": "1.2.0",
            "grid_template_areas": null,
            "object_position": null,
            "object_fit": null,
            "grid_auto_columns": null,
            "margin": null,
            "display": null,
            "left": null
          }
        },
        "0da69dc153384a678a9a9b010b17900f": {
          "model_module": "@jupyter-widgets/controls",
          "model_name": "VBoxModel",
          "state": {
            "_view_name": "VBoxView",
            "_dom_classes": [
              "widget-interact"
            ],
            "_model_name": "VBoxModel",
            "_view_module": "@jupyter-widgets/controls",
            "_model_module_version": "1.5.0",
            "_view_count": null,
            "_view_module_version": "1.5.0",
            "box_style": "",
            "layout": "IPY_MODEL_7fe7b498293f45b1b3185cf8ee2b1b70",
            "_model_module": "@jupyter-widgets/controls",
            "children": [
              "IPY_MODEL_f43a4d54519b43e398aa9939c3c25e87",
              "IPY_MODEL_f8674ca1962540508d74bd20f1950f30",
              "IPY_MODEL_33cc376ef4d34267b35c8351c06cb53b"
            ]
          }
        },
        "7fe7b498293f45b1b3185cf8ee2b1b70": {
          "model_module": "@jupyter-widgets/base",
          "model_name": "LayoutModel",
          "state": {
            "_view_name": "LayoutView",
            "grid_template_rows": null,
            "right": null,
            "justify_content": null,
            "_view_module": "@jupyter-widgets/base",
            "overflow": null,
            "_model_module_version": "1.2.0",
            "_view_count": null,
            "flex_flow": null,
            "width": null,
            "min_width": null,
            "border": null,
            "align_items": null,
            "bottom": null,
            "_model_module": "@jupyter-widgets/base",
            "top": null,
            "grid_column": null,
            "overflow_y": null,
            "overflow_x": null,
            "grid_auto_flow": null,
            "grid_area": null,
            "grid_template_columns": null,
            "flex": null,
            "_model_name": "LayoutModel",
            "justify_items": null,
            "grid_row": null,
            "max_height": null,
            "align_content": null,
            "visibility": null,
            "align_self": null,
            "height": null,
            "min_height": null,
            "padding": null,
            "grid_auto_rows": null,
            "grid_gap": null,
            "max_width": null,
            "order": null,
            "_view_module_version": "1.2.0",
            "grid_template_areas": null,
            "object_position": null,
            "object_fit": null,
            "grid_auto_columns": null,
            "margin": null,
            "display": null,
            "left": null
          }
        },
        "f43a4d54519b43e398aa9939c3c25e87": {
          "model_module": "@jupyter-widgets/controls",
          "model_name": "IntSliderModel",
          "state": {
            "_view_name": "IntSliderView",
            "style": "IPY_MODEL_bc0e82ffc13940e99b75045abe34ca40",
            "_dom_classes": [],
            "description": "max_depth",
            "step": 1,
            "_model_name": "IntSliderModel",
            "orientation": "horizontal",
            "max": 6,
            "_view_module": "@jupyter-widgets/controls",
            "_model_module_version": "1.5.0",
            "value": 1,
            "_view_count": null,
            "disabled": false,
            "_view_module_version": "1.5.0",
            "min": 1,
            "continuous_update": true,
            "readout_format": "d",
            "description_tooltip": null,
            "readout": true,
            "_model_module": "@jupyter-widgets/controls",
            "layout": "IPY_MODEL_ab05bbbb870c472c9a13c6221f6bf3ca"
          }
        },
        "f8674ca1962540508d74bd20f1950f30": {
          "model_module": "@jupyter-widgets/controls",
          "model_name": "IntSliderModel",
          "state": {
            "_view_name": "IntSliderView",
            "style": "IPY_MODEL_d22dbd202017401ea4c6d279d80aafd2",
            "_dom_classes": [],
            "description": "n_estimators",
            "step": 1,
            "_model_name": "IntSliderModel",
            "orientation": "horizontal",
            "max": 5,
            "_view_module": "@jupyter-widgets/controls",
            "_model_module_version": "1.5.0",
            "value": 2,
            "_view_count": null,
            "disabled": false,
            "_view_module_version": "1.5.0",
            "min": 2,
            "continuous_update": true,
            "readout_format": "d",
            "description_tooltip": null,
            "readout": true,
            "_model_module": "@jupyter-widgets/controls",
            "layout": "IPY_MODEL_913e0257fc4e4f3f94bdd175f677e44f"
          }
        },
        "33cc376ef4d34267b35c8351c06cb53b": {
          "model_module": "@jupyter-widgets/output",
          "model_name": "OutputModel",
          "state": {
            "_view_name": "OutputView",
            "msg_id": "",
            "_dom_classes": [],
            "_model_name": "OutputModel",
            "outputs": [
              {
                "output_type": "display_data",
                "metadata": {
                  "tags": []
                },
                "image/png": "iVBORw0KGgoAAAANSUhEUgAAAYIAAAEWCAYAAABrDZDcAAAABHNCSVQICAgIfAhkiAAAAAlwSFlz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\ndmXSGScAAAAASUVORK5CYII=\n",
                "text/plain": "<Figure size 432x288 with 1 Axes>"
              },
              {
                "output_type": "display_data",
                "metadata": {
                  "tags": []
                },
                "image/png": "iVBORw0KGgoAAAANSUhEUgAAAYIAAAEWCAYAAABrDZDcAAAABHNCSVQICAgIfAhkiAAAAAlwSFlz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\nMyu5/wYMs5Fd54L70QAAAABJRU5ErkJggg==\n",
                "text/plain": "<Figure size 432x288 with 1 Axes>"
              },
              {
                "output_type": "display_data",
                "metadata": {
                  "tags": []
                },
                "image/png": "iVBORw0KGgoAAAANSUhEUgAAAYIAAAEWCAYAAABrDZDcAAAABHNCSVQICAgIfAhkiAAAAAlwSFlz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\nyTkRmJmV3P8HfEZ4NOI3N0gAAAAASUVORK5CYII=\n",
                "text/plain": "<Figure size 432x288 with 1 Axes>"
              }
            ],
            "_view_module": "@jupyter-widgets/output",
            "_model_module_version": "1.0.0",
            "_view_count": null,
            "_view_module_version": "1.0.0",
            "layout": "IPY_MODEL_bac56c6b46a94c1984faf5eb1581b51c",
            "_model_module": "@jupyter-widgets/output"
          }
        },
        "bc0e82ffc13940e99b75045abe34ca40": {
          "model_module": "@jupyter-widgets/controls",
          "model_name": "SliderStyleModel",
          "state": {
            "_view_name": "StyleView",
            "handle_color": null,
            "_model_name": "SliderStyleModel",
            "description_width": "",
            "_view_module": "@jupyter-widgets/base",
            "_model_module_version": "1.5.0",
            "_view_count": null,
            "_view_module_version": "1.2.0",
            "_model_module": "@jupyter-widgets/controls"
          }
        },
        "ab05bbbb870c472c9a13c6221f6bf3ca": {
          "model_module": "@jupyter-widgets/base",
          "model_name": "LayoutModel",
          "state": {
            "_view_name": "LayoutView",
            "grid_template_rows": null,
            "right": null,
            "justify_content": null,
            "_view_module": "@jupyter-widgets/base",
            "overflow": null,
            "_model_module_version": "1.2.0",
            "_view_count": null,
            "flex_flow": null,
            "width": null,
            "min_width": null,
            "border": null,
            "align_items": null,
            "bottom": null,
            "_model_module": "@jupyter-widgets/base",
            "top": null,
            "grid_column": null,
            "overflow_y": null,
            "overflow_x": null,
            "grid_auto_flow": null,
            "grid_area": null,
            "grid_template_columns": null,
            "flex": null,
            "_model_name": "LayoutModel",
            "justify_items": null,
            "grid_row": null,
            "max_height": null,
            "align_content": null,
            "visibility": null,
            "align_self": null,
            "height": null,
            "min_height": null,
            "padding": null,
            "grid_auto_rows": null,
            "grid_gap": null,
            "max_width": null,
            "order": null,
            "_view_module_version": "1.2.0",
            "grid_template_areas": null,
            "object_position": null,
            "object_fit": null,
            "grid_auto_columns": null,
            "margin": null,
            "display": null,
            "left": null
          }
        },
        "d22dbd202017401ea4c6d279d80aafd2": {
          "model_module": "@jupyter-widgets/controls",
          "model_name": "SliderStyleModel",
          "state": {
            "_view_name": "StyleView",
            "handle_color": null,
            "_model_name": "SliderStyleModel",
            "description_width": "",
            "_view_module": "@jupyter-widgets/base",
            "_model_module_version": "1.5.0",
            "_view_count": null,
            "_view_module_version": "1.2.0",
            "_model_module": "@jupyter-widgets/controls"
          }
        },
        "913e0257fc4e4f3f94bdd175f677e44f": {
          "model_module": "@jupyter-widgets/base",
          "model_name": "LayoutModel",
          "state": {
            "_view_name": "LayoutView",
            "grid_template_rows": null,
            "right": null,
            "justify_content": null,
            "_view_module": "@jupyter-widgets/base",
            "overflow": null,
            "_model_module_version": "1.2.0",
            "_view_count": null,
            "flex_flow": null,
            "width": null,
            "min_width": null,
            "border": null,
            "align_items": null,
            "bottom": null,
            "_model_module": "@jupyter-widgets/base",
            "top": null,
            "grid_column": null,
            "overflow_y": null,
            "overflow_x": null,
            "grid_auto_flow": null,
            "grid_area": null,
            "grid_template_columns": null,
            "flex": null,
            "_model_name": "LayoutModel",
            "justify_items": null,
            "grid_row": null,
            "max_height": null,
            "align_content": null,
            "visibility": null,
            "align_self": null,
            "height": null,
            "min_height": null,
            "padding": null,
            "grid_auto_rows": null,
            "grid_gap": null,
            "max_width": null,
            "order": null,
            "_view_module_version": "1.2.0",
            "grid_template_areas": null,
            "object_position": null,
            "object_fit": null,
            "grid_auto_columns": null,
            "margin": null,
            "display": null,
            "left": null
          }
        },
        "864d024394ee4401a86d4dddd05a6342": {
          "model_module": "@jupyter-widgets/controls",
          "model_name": "VBoxModel",
          "state": {
            "_view_name": "VBoxView",
            "_dom_classes": [
              "widget-interact"
            ],
            "_model_name": "VBoxModel",
            "_view_module": "@jupyter-widgets/controls",
            "_model_module_version": "1.5.0",
            "_view_count": null,
            "_view_module_version": "1.5.0",
            "box_style": "",
            "layout": "IPY_MODEL_f2615afd5f454ff6b2ccf3b32a1de88f",
            "_model_module": "@jupyter-widgets/controls",
            "children": [
              "IPY_MODEL_47b4d3c510dd4db399e1268c9e1f04a7",
              "IPY_MODEL_00e4b4af4ba14fabb8c7ef317e0a89a7",
              "IPY_MODEL_66cf20b581b94df8a9d96ad3b6009274"
            ]
          }
        },
        "f2615afd5f454ff6b2ccf3b32a1de88f": {
          "model_module": "@jupyter-widgets/base",
          "model_name": "LayoutModel",
          "state": {
            "_view_name": "LayoutView",
            "grid_template_rows": null,
            "right": null,
            "justify_content": null,
            "_view_module": "@jupyter-widgets/base",
            "overflow": null,
            "_model_module_version": "1.2.0",
            "_view_count": null,
            "flex_flow": null,
            "width": null,
            "min_width": null,
            "border": null,
            "align_items": null,
            "bottom": null,
            "_model_module": "@jupyter-widgets/base",
            "top": null,
            "grid_column": null,
            "overflow_y": null,
            "overflow_x": null,
            "grid_auto_flow": null,
            "grid_area": null,
            "grid_template_columns": null,
            "flex": null,
            "_model_name": "LayoutModel",
            "justify_items": null,
            "grid_row": null,
            "max_height": null,
            "align_content": null,
            "visibility": null,
            "align_self": null,
            "height": null,
            "min_height": null,
            "padding": null,
            "grid_auto_rows": null,
            "grid_gap": null,
            "max_width": null,
            "order": null,
            "_view_module_version": "1.2.0",
            "grid_template_areas": null,
            "object_position": null,
            "object_fit": null,
            "grid_auto_columns": null,
            "margin": null,
            "display": null,
            "left": null
          }
        },
        "47b4d3c510dd4db399e1268c9e1f04a7": {
          "model_module": "@jupyter-widgets/controls",
          "model_name": "IntSliderModel",
          "state": {
            "_view_name": "IntSliderView",
            "style": "IPY_MODEL_2295116939de4f409d6ecc695399269d",
            "_dom_classes": [],
            "description": "max_depth",
            "step": 1,
            "_model_name": "IntSliderModel",
            "orientation": "horizontal",
            "max": 6,
            "_view_module": "@jupyter-widgets/controls",
            "_model_module_version": "1.5.0",
            "value": 1,
            "_view_count": null,
            "disabled": false,
            "_view_module_version": "1.5.0",
            "min": 1,
            "continuous_update": true,
            "readout_format": "d",
            "description_tooltip": null,
            "readout": true,
            "_model_module": "@jupyter-widgets/controls",
            "layout": "IPY_MODEL_776829f0987a49a2947aefa75af03c1d"
          }
        },
        "00e4b4af4ba14fabb8c7ef317e0a89a7": {
          "model_module": "@jupyter-widgets/controls",
          "model_name": "IntSliderModel",
          "state": {
            "_view_name": "IntSliderView",
            "style": "IPY_MODEL_d599b654ed524eea8e398952da409811",
            "_dom_classes": [],
            "description": "n_estimators",
            "step": 10,
            "_model_name": "IntSliderModel",
            "orientation": "horizontal",
            "max": 40,
            "_view_module": "@jupyter-widgets/controls",
            "_model_module_version": "1.5.0",
            "value": 10,
            "_view_count": null,
            "disabled": false,
            "_view_module_version": "1.5.0",
            "min": 10,
            "continuous_update": true,
            "readout_format": "d",
            "description_tooltip": null,
            "readout": true,
            "_model_module": "@jupyter-widgets/controls",
            "layout": "IPY_MODEL_7be04891bea949e7bff3049011a436a8"
          }
        },
        "66cf20b581b94df8a9d96ad3b6009274": {
          "model_module": "@jupyter-widgets/output",
          "model_name": "OutputModel",
          "state": {
            "_view_name": "OutputView",
            "msg_id": "",
            "_dom_classes": [],
            "_model_name": "OutputModel",
            "outputs": [
              {
                "output_type": "display_data",
                "metadata": {
                  "tags": []
                },
                "image/png": "iVBORw0KGgoAAAANSUhEUgAAAVoAAAEFCAYAAACiiS9UAAAABHNCSVQICAgIfAhkiAAAAAlwSFlz\nAAALEgAACxIB0t1+/AAAADh0RVh0U29mdHdhcmUAbWF0cGxvdGxpYiB2ZXJzaW9uMy4xLjIsIGh0\ndHA6Ly9tYXRwbG90bGliLm9yZy8li6FKAAAWUUlEQVR4nO3de5RdZX3G8e+TUC42XKrBW4IEIaCR\n2qoQqbTqWmIbXEqs2ALWKhSJVeNqi6XayqKU1isK3lI0CipaoEKrnWosWCugVEgCYmoCaBoCJIrI\nRS5iDTPz9I+9hxzGmTn7MOfNOWd4Pqy92Jf3vPvdJ/Djx2+/ex/ZJiIiypnV6wFERMx0CbQREYUl\n0EZEFJZAGxFRWAJtRERhCbQREYUl0A4wSV+V9PoG7R6Q9PQdMaYdRdIRkjYX7P9Tkv6mZXu5pDvq\n73LP+u9PK3X+mFmUebTl1QHhScAwMAJsAM4HVtoe7eHQGpO0Hti33twNeIjqegDebfvdBc55GHA6\n8FtU39sPgBW2z5d0BPAp2wu6fd4JxrEr8FPgebbXlz5fzDzJaHecV9jenSpYvRd4O3Bub4fUnO1n\n2Z5jew7wTWD52PZEQVbSTtM5n6TfBv4T+DrwdOAJwHLgZdPp91F6MrBLN4LsdL+XGEwJtDuY7Xtt\nDwHHAK+XdLCkXSR9QNKtkn4s6eOSdhv7jKSlkq6XdJ+k/5W0pN5/uaQ31OsHSLpC0r2S7pT0zy2f\nt6QD6vU9JZ0v6SeSbpF0qqRZ9bHjJX2rHss9km6WdGST65L0BklXSvqIpLuBU1v231j391VJ+7R8\nZpGk/5R0d93m6JYuPwCca/tM23e5ssb2sZOc/1RJmyTdL2m9pKNajh1Yj23su7mg3j+rHu8d9bF1\nkhbVxz4v6XRJzwTW1/sekHSZpJ3q73RBvX9XSWdJuq3+8/vHOgt+uMQh6W8k3Q58ssn3GTNLAm2P\n2F4NbAF+hyrDPRD4TeAAYB5wGoCkxVRlhlOAvYAXApsn6PLvgcuAXwPmAx+d5NQfBfakyhJfBLwO\nOKHl+POBm4C5wPuBcyWp4WW9ALgB2Bt4Xx04TwGW1vuuAcaC3Bzga/W1PRH4I2ClpIMk7Q4sBi5p\neF6A7wOH19f2LuACSU+qj70L+Arbv5sV9f4jgcOAhfWxY4G7Wzu1fQPwG/X6HNu/O8G5zwT2A55d\n97UAeGfL8fnAHOBpwJs7uKaYIRJoe+uHwOOBZcBf2L7b9v3Au6n+pQc4ETjP9tdsj9reavvGCfp6\niKos8VTb/2f7W+MbSJpd9/vXtu+3vRn4IPDHLc1usf1J2yPAZ4GnUNWXm7jV9jm2R2z/HPhTqvrt\nTbaHgX8AFkuaRxV8v2/7fNvDtq8FvgS8uv5OBPyo4Xmx/QXbP6q/owuo/mN0SMt3swB4Sv3dXNWy\nfw/gGXUfG2zf3vScUGXFwEnAn9u+x/Z9wHvY/ucHVS37dNvb6u8lHmMSaHtrHrAT8DjgWkk/lfRT\n4D+oMkCAfYD/bdDXX1EFp9X1/zr/yQRt5gK/AtzSsu+WehxjHg40th+sV+c0OD/AbeO29wVWtFzX\nncAoVYa3L3D42LH6+DFUgf1uwPV6I3XZ47stfT2D6noB3kZ13Wsl/Y/qmRq2LwM+DpwDjJVsdm96\nztqTgV2A1nN/mSpLH/Nj29s67DdmkATaHpF0KFWA+xLwc+BZtveqlz3rm05QBa/92/Vn+3bbJ9l+\nKvBG4B/H6rIt7mR75jvmacDWaV7Ow8MYt30bcGLLde1lezfb19THvj7u2Bzby+usfjVw9PgTTETV\n1LVzgDcBT7C9F3Aj1X94qDPdN9h+CvAWqhLFfvWxD9l+LnAwsAg4ucNr/jGwDTho3J/fnlN8L/EY\nk0C7g0naQ9LLgYuAz9v+LtUNkrMlPbFuM0/S79UfORc4QdJL6ps38yQ9Y4J+/0DS/HrzHqp/uR8x\ndawuB3wBeJek3SXtSxVYPl/gUqHKFt9Z31BC0l6SXl0fGwKeJek1kn6lXhZLOqg+fgrwBkknS3p8\n/fnnjN3IGmcO1fX+pGqmk6jLAfXn/rAuV0A1TcvASH2+xapmAvyMKmB2NN2u/k4/BXxI0t6qzJc0\nUS03HqMSaHecf5d0P1Um907gLLbfhHo7sBG4WtJ9VNOaDoKHb5qdAJwN3AtcwSMz0jGHAtdIeoAq\niP2Z7U0TtHsrVVDZBHyL6ubUed24wPFsX0x1nRfX17UO+L362L31+muparG3U9U2d6mPfxM4om6z\nuZ7JcA6waoLzrKO6ybe67usgqhtvY54PrJH0M+BfgbfYvpXq5uK5VMF3c/3Zsx7Fpb6NqgSzmurP\n6DKqm2IRQB5YiIgoLhltRERhCbQRES0knVc/xPK9SY6rftBlY/2Qy3Pb9ZlAGxHxSJ8Blkxx/Eiq\nGvxCqjnw57TrMIE2IqKF7SsZ94TgOEuB8+vHwq8G9pI05ZzvIi+4OGHB0bnDFhGNfHrzvzR9xHtS\nD925qXHM2Xnv/d9IlYmOWWl7ZQenm8cjH87ZUu+b9EnGvEkoIh5T6qDaSWCdtgTaiBh8oyM78mxb\nqR6NHzOfNk9XpkYbEYNvZLj5Mn1DwOvq2QeHAffanvIFSMloI2LgdfOHSiRdCLwYmCtpC/C3VC8l\nwvbHqZ5OfBnV05wP8sjXjE4ogTYiBt9o9wKt7ePaHDfVy4kaS6CNiMHX5z+9l0AbEYNvx94M61gC\nbUQMvmS0ERFluTuzCYpJoI2IwdfFm2ElJNBGxOBL6SAiorDcDIuIKCwZbUREYbkZFhFRWG6GRUSU\nVf3qe/9KoI2IwZcabUREYSkdREQUlow2IqKwkYd6PYIpJdBGxOBL6SAiorCUDiIiCktGGxFRWAJt\nRERZzs2wiIjCUqONiCgspYOIiMKS0UZEFJaMNiKisGS0ERGFDefF3xERZSWjjYgoLDXaiIjCktFG\nRBSWjDYiorBktBERhWXWQUREYXavRzClBNqIGHyp0UZEFNbngXZWrwcQETFtHm2+tCFpiaSbJG2U\n9I4Jjj9N0jckfUfSOkkva9dnMtqIGHwjI13pRtJsYAXwUmALsEbSkO0NLc1OBb5g+xxJi4BVwIKp\n+k2gjYjB173SwWJgo+1NAJIuApYCrYHWwB71+p7AD9t1mkAbEYOvg0AraRmwrGXXStsr6/V5wG0t\nx7YAzx/XxenAZZLeCvwqcES7cybQRsTg6+CBhTqormzbcHLHAZ+x/UFJvwV8TtLB9uSDSKCNiIHn\n0a7No90K7NOyPb/e1+pEYAmA7W9L2hWYC9wxWaeZdRARg290tPkytTXAQkn7SdoZOBYYGtfmVuAl\nAJKeCewK/GSqTpPRRsTg69KsA9vDkpYDlwKzgfNsr5d0BrDW9hDwNuCTkv6C6sbY8fbUj6Yl0EbE\n4OviAwu2V1FN2Wrdd1rL+gbg8E76TKCNiMHX50+GJdBGxODLS2UiIgpLRhsRUVj3pncVkUAbEYOv\nS7MOSkmgjYiB55QOIiIKS+kgIqKw/DhjRERhyWgjIgobzs2wiIiyUjqIiCgspYOIiLIyvSsiorRk\ntBERhSXQRkQUlkdwIyLK6uJvhhWRQBsRgy+BNiKisMw6iIgoLBltRERhCbQREWV5JKWDiIiyktFG\nRJSV6V0REaUl0EZEFNbfJdoE2ogYfB7u70ibQBsRg6+/42wCbUQMvtwMi4goLRltRERZyWgjIkpL\nRhsRUZaHez2CqSXQRsTA6/NfG2dWrwcQETFtox0sbUhaIukmSRslvWOSNn8oaYOk9ZIuaNdnMtqI\nGHjdymglzQZWAC8FtgBrJA3Z3tDSZiHw18Dhtu+R9MR2/SajjYiB59HmSxuLgY22N9neBlwELB3X\n5iRghe17AGzf0a7TBNqIGHgeUeNF0jJJa1uWZS1dzQNua9neUu9rdSBwoKSrJF0taUm78aV0EBED\nr5PSge2VwMppnG4nYCHwYmA+cKWkX7f906k+EBEx0DyqbnW1FdinZXt+va/VFuAa2w8BN0v6PlXg\nXTNZpykdRMTA62KNdg2wUNJ+knYGjgWGxrX5ElU2i6S5VKWETVN12ijQSnqFpATliOhLthovU/fj\nYWA5cClwA/AF2+slnSHpqLrZpcBdkjYA3wBOsX3XVP02LR0cA3xI0r8A59m+seHnIiKK6+YDC7ZX\nAavG7TutZd3AyfXSSKNAa/u1kvYAjgM+I8nAp4ELbd/f9GQRESWMjnStRltE43KA7fuAS6jmlT0F\n+H3gOklvLTS2iIhGPKrGSy80ymglLQWOBw4AzgcW275D0uOADcBHi40wIqKNXgXQpprWaF8FnG37\nytadth+UdGL3hxUR0Zz7+3W0jUsHt48PspLeB2D7610fVUREB/q9dNA00L50gn1HdnMgERGPVrem\nd5UyZelA0puANwP7S1rXcmh34KqSA4uIaGqkz2cdtKvRXgB8FXgP0Ppexvtt311sVBERHehVptpU\nu0Br25slvWX8AUmPT7CNiH4w6LMOLgBeDlwLGGi9GgNPLzSuiIjG+n3WwZSB1vbL67/vt2OGExHR\nuX7PaJu+VOaXpnBNtC8iohdGRmc1Xnqh3ayDXYHHAXMl/RrbSwd78MtvHY+I6ImBLh0AbwT+HHgq\nVZ12LNDeB3ys4LgiIhobHeRZB7Y/DHxY0ltt530GEdGXBn16FwC2PyrpBcCC1s/YPr/QuCIiGhv0\n0gEAkj4H7A9cD4zUu031Jq+IiJ4a6NJBi0OARfWbxSMi+kqvZhM01XR03wOeXHIgERGPljtYeqFp\nRjsX2CBpNfCLsZ22j5r8IxERO8ZMKR2cXnIQERHTMVNmHVxReiAREY9WF38Et4imj+AeJmmNpAck\nbZM0Ium+0oOLiGjCqPHSC01LBx8DjgUuppqB8DrgwFKDiojoxHCflw46+bnxjcBs2yO2Pw0sKTes\niIjmZkpG+6CknYHrJb0f+BEdBOmIiJJmRI0W+GNgNrAc+BmwD3B0qUFFRHRiRmS0tm+pV38O/F25\n4UREdK7fM9qm7zq4mQkeqrCdn7KJiJ4b6VGm2lQn7zoYsyvwB8Djuz+ciIjO9fkv2TQuHdw1bteH\nJF0LnNb9IUVEdGZ0JmS0kp7bsjmLKsNtmg1HRBTV768VbBosP8j2axkGNlOVDyIiem5G3AwDvkwV\naMfycwMvl6pN22d1f2gREc2MagaUDoDnAYcC/0YVbF8BrAZ+UGhcERGNjbRv0lNNA+184Lm27weQ\ndDrwFduvLTWwiIimujnrQNIS4MNUD2l9yvZ7J2l3NHAJcKjttVP12TTQPgnY1rK9rd4XEdFz3Zp1\nIGk2sAJ4KbAFWCNpyPaGce12B/4MuKZJv00D7fnAaklfrLdfCXym4WcjIorq4qyDxcBG25sAJF0E\nLAU2jGv398D7gFOadNroXQe23wWcANxTLyfYfk+zcUdElDWq5oukZZLWtizLWrqaB9zWsr2l3vew\nerrrPra/0nR8jefC2r4OuK5p+4iIHaWT6V22VwIrH815JM0CzgKO7+RzeeggIgbeSPduhm2lejvh\nmPn1vjG7AwcDl9fTW58MDEk6aqobYgm0ETHwuvjAwhpgoaT9qALsscBrxg7avpfqV8EBkHQ58Jfd\nmnXQkfcvvLNEtxERE+pWoLU9LGk5cCnV9K7zbK+XdAaw1vbQo+k3GW1EDLxu/mSY7VXAqnH7JnyB\nlu0XN+kzgTYiBt5MeddBRETfmimP4EZE9K0Z8eLviIh+ltJBRERhCbQREYXNlF9YiIjoW6nRRkQU\nllkHERGFjfZ58SCBNiIGXm6GRUQU1t/5bAJtRMwAyWgjIgobVn/ntAm0ETHw+jvMJtBGxAyQ0kFE\nRGGZ3hURUVh/h9kE2oiYAVI6iIgobKTPc9oE2ogYeMloIyIKczLaiIiyktFGRBSW6V0REYX1d5hN\noI2IGWC4z0NtAm1EDLzcDIuIKCw3wyIiCktGGxFRWDLaiIjCRpyMNiKiqMyjjYgoLDXaiIjCUqON\niCis30sHs3o9gIiI6XIHf7UjaYmkmyRtlPSOCY6fLGmDpHWSvi5p33Z9JtBGxMAbsRsvU5E0G1gB\nHAksAo6TtGhcs+8Ah9h+NnAJ8P5240ugjYiBN4obL20sBjba3mR7G3ARsLS1ge1v2H6w3rwamN+u\n0wTaiBh4ox0skpZJWtuyLGvpah5wW8v2lnrfZE4EvtpufLkZFhEDr5PpXbZXAiune05JrwUOAV7U\nrm0CbUQMvC7OOtgK7NOyPb/e9wiSjgDeCbzI9i/adZpAGxEDz917BHcNsFDSflQB9ljgNa0NJD0H\n+ASwxPYdTTpNoI2Igdetnxu3PSxpOXApMBs4z/Z6SWcAa20PAWcCc4CLJQHcavuoqfpNoI2IgdfN\nBxZsrwJWjdt3Wsv6EZ32mUAbEQOvi6WDIhJoI2Lg9fsjuAm0ETHw8vauiIjC8uLviIjCUjqIiCgs\ngTYiorDMOoiIKCwZbUREYZl1EBFR2Ij7+1fDEmgjYuClRhsRUVhqtBERhaVGGxFR2GhKBxERZSWj\njYgoLLMOIiIKS+kgIqKwlA4iIgpLRhsRUVgy2oiIwkY80ushTCmBNiIGXh7BjYgoLI/gRkQUlow2\nIqKwzDqIiCgssw4iIgrLI7gREYWlRhsRUVhqtBERhSWjjYgoLPNoIyIKS0YbEVFYZh1ERBSWm2ER\nEYX1e+lgVq8HEBExXe7gr3YkLZF0k6SNkt4xwfFdJP1zffwaSQva9ZlAGxEDz3bjZSqSZgMrgCOB\nRcBxkhaNa3YicI/tA4Czgfe1G18CbUQMvFG78dLGYmCj7U22twEXAUvHtVkKfLZevwR4iSRN1WmR\nGu3eX7tiypNGRHTT8LatjWOOpGXAspZdK22vrNfnAbe1HNsCPH9cFw+3sT0s6V7gCcCdk50zN8Mi\n4jGlDqor2zbsopQOIiK22wrs07I9v943YRtJOwF7AndN1WkCbUTEdmuAhZL2k7QzcCwwNK7NEPD6\nev3VwH+5zV22lA4iImp1zXU5cCkwGzjP9npJZwBrbQ8B5wKfk7QRuJsqGE9J/T7RN3YsSQ/YntPl\nPo8CFtl+r6RXAt+3vaHDPi4H/tL22m6OLWJHSOkgirM9ZPu99eYrqeYnRjxmJNDGhFQ5U9L3JP2P\npGPq/S+WdLmkSyTdKOmfxuYQSnpZve9aSR+R9OV6//GSPibpBcBRwJmSrpe0f93XIXW7uZI21+u7\nSbpI0g2Svgjs1jK235X0bUnXSbpYUlcz8IhuS402JvMq4DeB3wDmAmskXVkfew7wLOCHwFXA4ZLW\nAp8AXmj7ZkkXju/Q9n9LGgK+bPsSgCnmeb8JeND2MyU9G7iubj8XOBU4wvbPJL0dOBk4oxsXHVFC\nAm1M5reBC22PAD+WdAVwKHAfsNr2FgBJ1wMLgAeATbZvrj9/IY+cFN6pFwIfAbC9TtK6ev9hVKWH\nq+ogvTPw7WmcJ6K4BNp4NH7Rsj7C9P45GmZ7CWvXBu0FfM32cdM4Z8QOlRptTOabwDGSZkvamyrD\nXD1F+5uAp7e8yeiYSdrdD+zesr0ZeF69/uqW/VcCrwGQdDDw7Hr/1VSligPqY78q6cAG1xPRMwm0\nMZkvAuuA7wL/BfyV7dsna2z758Cbgf+QdC1VQL13gqYXAadI+o6k/YEPAG+S9B2qWvCYc4A5km6g\nqr9eW5/nJ8DxwIV1OeHbwDOmc6ERpWUebXSNpDm2H6hnIawAfmD77F6PK6LXktFGN51U3xxbT/X8\n9yd6PJ6IvpCMNiKisGS0ERGFJdBGRBSWQBsRUVgCbUREYQm0ERGF/T8WZjEtZmBl4AAAAABJRU5E\nrkJggg==\n",
                "text/plain": "<Figure size 432x288 with 2 Axes>"
              },
              {
                "output_type": "display_data",
                "metadata": {
                  "tags": []
                },
                "image/png": "iVBORw0KGgoAAAANSUhEUgAAAVoAAAEFCAYAAACiiS9UAAAABHNCSVQICAgIfAhkiAAAAAlwSFlz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\nxSS9uU39DwAAAABJRU5ErkJggg==\n",
                "text/plain": "<Figure size 432x288 with 2 Axes>"
              },
              {
                "output_type": "display_data",
                "metadata": {
                  "tags": []
                },
                "image/png": "iVBORw0KGgoAAAANSUhEUgAAAVoAAAEFCAYAAACiiS9UAAAABHNCSVQICAgIfAhkiAAAAAlwSFlz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\nAAAAAElFTkSuQmCC\n",
                "text/plain": "<Figure size 432x288 with 2 Axes>"
              }
            ],
            "_view_module": "@jupyter-widgets/output",
            "_model_module_version": "1.0.0",
            "_view_count": null,
            "_view_module_version": "1.0.0",
            "layout": "IPY_MODEL_ca7502a8a92444e5a0ad590c88f4070f",
            "_model_module": "@jupyter-widgets/output"
          }
        },
        "2295116939de4f409d6ecc695399269d": {
          "model_module": "@jupyter-widgets/controls",
          "model_name": "SliderStyleModel",
          "state": {
            "_view_name": "StyleView",
            "handle_color": null,
            "_model_name": "SliderStyleModel",
            "description_width": "",
            "_view_module": "@jupyter-widgets/base",
            "_model_module_version": "1.5.0",
            "_view_count": null,
            "_view_module_version": "1.2.0",
            "_model_module": "@jupyter-widgets/controls"
          }
        },
        "776829f0987a49a2947aefa75af03c1d": {
          "model_module": "@jupyter-widgets/base",
          "model_name": "LayoutModel",
          "state": {
            "_view_name": "LayoutView",
            "grid_template_rows": null,
            "right": null,
            "justify_content": null,
            "_view_module": "@jupyter-widgets/base",
            "overflow": null,
            "_model_module_version": "1.2.0",
            "_view_count": null,
            "flex_flow": null,
            "width": null,
            "min_width": null,
            "border": null,
            "align_items": null,
            "bottom": null,
            "_model_module": "@jupyter-widgets/base",
            "top": null,
            "grid_column": null,
            "overflow_y": null,
            "overflow_x": null,
            "grid_auto_flow": null,
            "grid_area": null,
            "grid_template_columns": null,
            "flex": null,
            "_model_name": "LayoutModel",
            "justify_items": null,
            "grid_row": null,
            "max_height": null,
            "align_content": null,
            "visibility": null,
            "align_self": null,
            "height": null,
            "min_height": null,
            "padding": null,
            "grid_auto_rows": null,
            "grid_gap": null,
            "max_width": null,
            "order": null,
            "_view_module_version": "1.2.0",
            "grid_template_areas": null,
            "object_position": null,
            "object_fit": null,
            "grid_auto_columns": null,
            "margin": null,
            "display": null,
            "left": null
          }
        },
        "d599b654ed524eea8e398952da409811": {
          "model_module": "@jupyter-widgets/controls",
          "model_name": "SliderStyleModel",
          "state": {
            "_view_name": "StyleView",
            "handle_color": null,
            "_model_name": "SliderStyleModel",
            "description_width": "",
            "_view_module": "@jupyter-widgets/base",
            "_model_module_version": "1.5.0",
            "_view_count": null,
            "_view_module_version": "1.2.0",
            "_model_module": "@jupyter-widgets/controls"
          }
        },
        "7be04891bea949e7bff3049011a436a8": {
          "model_module": "@jupyter-widgets/base",
          "model_name": "LayoutModel",
          "state": {
            "_view_name": "LayoutView",
            "grid_template_rows": null,
            "right": null,
            "justify_content": null,
            "_view_module": "@jupyter-widgets/base",
            "overflow": null,
            "_model_module_version": "1.2.0",
            "_view_count": null,
            "flex_flow": null,
            "width": null,
            "min_width": null,
            "border": null,
            "align_items": null,
            "bottom": null,
            "_model_module": "@jupyter-widgets/base",
            "top": null,
            "grid_column": null,
            "overflow_y": null,
            "overflow_x": null,
            "grid_auto_flow": null,
            "grid_area": null,
            "grid_template_columns": null,
            "flex": null,
            "_model_name": "LayoutModel",
            "justify_items": null,
            "grid_row": null,
            "max_height": null,
            "align_content": null,
            "visibility": null,
            "align_self": null,
            "height": null,
            "min_height": null,
            "padding": null,
            "grid_auto_rows": null,
            "grid_gap": null,
            "max_width": null,
            "order": null,
            "_view_module_version": "1.2.0",
            "grid_template_areas": null,
            "object_position": null,
            "object_fit": null,
            "grid_auto_columns": null,
            "margin": null,
            "display": null,
            "left": null
          }
        },
        "77f201c0ec3d497eac6b04960ce2358d": {
          "model_module": "@jupyter-widgets/controls",
          "model_name": "VBoxModel",
          "state": {
            "_view_name": "VBoxView",
            "_dom_classes": [
              "widget-interact"
            ],
            "_model_name": "VBoxModel",
            "_view_module": "@jupyter-widgets/controls",
            "_model_module_version": "1.5.0",
            "_view_count": null,
            "_view_module_version": "1.5.0",
            "box_style": "",
            "layout": "IPY_MODEL_791fec9f12874b5bb59d03691afa2ebb",
            "_model_module": "@jupyter-widgets/controls",
            "children": [
              "IPY_MODEL_b42c7503f7df4504985f2173f4be964a",
              "IPY_MODEL_cffecd4e01184e07bce51c0cd9f5dd1a",
              "IPY_MODEL_6a13a68be4e6485f98d84352650e65c4"
            ]
          }
        },
        "791fec9f12874b5bb59d03691afa2ebb": {
          "model_module": "@jupyter-widgets/base",
          "model_name": "LayoutModel",
          "state": {
            "_view_name": "LayoutView",
            "grid_template_rows": null,
            "right": null,
            "justify_content": null,
            "_view_module": "@jupyter-widgets/base",
            "overflow": null,
            "_model_module_version": "1.2.0",
            "_view_count": null,
            "flex_flow": null,
            "width": null,
            "min_width": null,
            "border": null,
            "align_items": null,
            "bottom": null,
            "_model_module": "@jupyter-widgets/base",
            "top": null,
            "grid_column": null,
            "overflow_y": null,
            "overflow_x": null,
            "grid_auto_flow": null,
            "grid_area": null,
            "grid_template_columns": null,
            "flex": null,
            "_model_name": "LayoutModel",
            "justify_items": null,
            "grid_row": null,
            "max_height": null,
            "align_content": null,
            "visibility": null,
            "align_self": null,
            "height": null,
            "min_height": null,
            "padding": null,
            "grid_auto_rows": null,
            "grid_gap": null,
            "max_width": null,
            "order": null,
            "_view_module_version": "1.2.0",
            "grid_template_areas": null,
            "object_position": null,
            "object_fit": null,
            "grid_auto_columns": null,
            "margin": null,
            "display": null,
            "left": null
          }
        },
        "b42c7503f7df4504985f2173f4be964a": {
          "model_module": "@jupyter-widgets/controls",
          "model_name": "IntSliderModel",
          "state": {
            "_view_name": "IntSliderView",
            "style": "IPY_MODEL_8246a9fb5b6345bfb5ef757e1a81bdac",
            "_dom_classes": [],
            "description": "max_depth",
            "step": 1,
            "_model_name": "IntSliderModel",
            "orientation": "horizontal",
            "max": 6,
            "_view_module": "@jupyter-widgets/controls",
            "_model_module_version": "1.5.0",
            "value": 1,
            "_view_count": null,
            "disabled": false,
            "_view_module_version": "1.5.0",
            "min": 1,
            "continuous_update": true,
            "readout_format": "d",
            "description_tooltip": null,
            "readout": true,
            "_model_module": "@jupyter-widgets/controls",
            "layout": "IPY_MODEL_d846ff0b0e1546e6b9e8cee32cbcf608"
          }
        },
        "cffecd4e01184e07bce51c0cd9f5dd1a": {
          "model_module": "@jupyter-widgets/controls",
          "model_name": "IntSliderModel",
          "state": {
            "_view_name": "IntSliderView",
            "style": "IPY_MODEL_83b425e00f754041be9ffe032fcfd248",
            "_dom_classes": [],
            "description": "n_estimators",
            "step": 1,
            "_model_name": "IntSliderModel",
            "orientation": "horizontal",
            "max": 5,
            "_view_module": "@jupyter-widgets/controls",
            "_model_module_version": "1.5.0",
            "value": 2,
            "_view_count": null,
            "disabled": false,
            "_view_module_version": "1.5.0",
            "min": 2,
            "continuous_update": true,
            "readout_format": "d",
            "description_tooltip": null,
            "readout": true,
            "_model_module": "@jupyter-widgets/controls",
            "layout": "IPY_MODEL_2402d379f52b493b907f3f42d17a6c29"
          }
        },
        "6a13a68be4e6485f98d84352650e65c4": {
          "model_module": "@jupyter-widgets/output",
          "model_name": "OutputModel",
          "state": {
            "_view_name": "OutputView",
            "msg_id": "",
            "_dom_classes": [],
            "_model_name": "OutputModel",
            "outputs": [
              {
                "output_type": "display_data",
                "metadata": {
                  "tags": []
                },
                "image/png": "iVBORw0KGgoAAAANSUhEUgAAAVsAAAEFCAYAAABNS0RqAAAABHNCSVQICAgIfAhkiAAAAAlwSFlz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\nSUVORK5CYII=\n",
                "text/plain": "<Figure size 432x288 with 2 Axes>"
              },
              {
                "output_type": "display_data",
                "metadata": {
                  "tags": []
                },
                "image/png": "iVBORw0KGgoAAAANSUhEUgAAAVsAAAEFCAYAAABNS0RqAAAABHNCSVQICAgIfAhkiAAAAAlwSFlz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\nYII=\n",
                "text/plain": "<Figure size 432x288 with 2 Axes>"
              },
              {
                "output_type": "display_data",
                "metadata": {
                  "tags": []
                },
                "image/png": "iVBORw0KGgoAAAANSUhEUgAAAVsAAAEFCAYAAABNS0RqAAAABHNCSVQICAgIfAhkiAAAAAlwSFlz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\nbM3MuuB/Aa0pFi3LxXDiAAAAAElFTkSuQmCC\n",
                "text/plain": "<Figure size 432x288 with 2 Axes>"
              }
            ],
            "_view_module": "@jupyter-widgets/output",
            "_model_module_version": "1.0.0",
            "_view_count": null,
            "_view_module_version": "1.0.0",
            "layout": "IPY_MODEL_0aa7447554fb4d62b6709d144f0ae8a1",
            "_model_module": "@jupyter-widgets/output"
          }
        },
        "8246a9fb5b6345bfb5ef757e1a81bdac": {
          "model_module": "@jupyter-widgets/controls",
          "model_name": "SliderStyleModel",
          "state": {
            "_view_name": "StyleView",
            "handle_color": null,
            "_model_name": "SliderStyleModel",
            "description_width": "",
            "_view_module": "@jupyter-widgets/base",
            "_model_module_version": "1.5.0",
            "_view_count": null,
            "_view_module_version": "1.2.0",
            "_model_module": "@jupyter-widgets/controls"
          }
        },
        "d846ff0b0e1546e6b9e8cee32cbcf608": {
          "model_module": "@jupyter-widgets/base",
          "model_name": "LayoutModel",
          "state": {
            "_view_name": "LayoutView",
            "grid_template_rows": null,
            "right": null,
            "justify_content": null,
            "_view_module": "@jupyter-widgets/base",
            "overflow": null,
            "_model_module_version": "1.2.0",
            "_view_count": null,
            "flex_flow": null,
            "width": null,
            "min_width": null,
            "border": null,
            "align_items": null,
            "bottom": null,
            "_model_module": "@jupyter-widgets/base",
            "top": null,
            "grid_column": null,
            "overflow_y": null,
            "overflow_x": null,
            "grid_auto_flow": null,
            "grid_area": null,
            "grid_template_columns": null,
            "flex": null,
            "_model_name": "LayoutModel",
            "justify_items": null,
            "grid_row": null,
            "max_height": null,
            "align_content": null,
            "visibility": null,
            "align_self": null,
            "height": null,
            "min_height": null,
            "padding": null,
            "grid_auto_rows": null,
            "grid_gap": null,
            "max_width": null,
            "order": null,
            "_view_module_version": "1.2.0",
            "grid_template_areas": null,
            "object_position": null,
            "object_fit": null,
            "grid_auto_columns": null,
            "margin": null,
            "display": null,
            "left": null
          }
        },
        "83b425e00f754041be9ffe032fcfd248": {
          "model_module": "@jupyter-widgets/controls",
          "model_name": "SliderStyleModel",
          "state": {
            "_view_name": "StyleView",
            "handle_color": null,
            "_model_name": "SliderStyleModel",
            "description_width": "",
            "_view_module": "@jupyter-widgets/base",
            "_model_module_version": "1.5.0",
            "_view_count": null,
            "_view_module_version": "1.2.0",
            "_model_module": "@jupyter-widgets/controls"
          }
        },
        "2402d379f52b493b907f3f42d17a6c29": {
          "model_module": "@jupyter-widgets/base",
          "model_name": "LayoutModel",
          "state": {
            "_view_name": "LayoutView",
            "grid_template_rows": null,
            "right": null,
            "justify_content": null,
            "_view_module": "@jupyter-widgets/base",
            "overflow": null,
            "_model_module_version": "1.2.0",
            "_view_count": null,
            "flex_flow": null,
            "width": null,
            "min_width": null,
            "border": null,
            "align_items": null,
            "bottom": null,
            "_model_module": "@jupyter-widgets/base",
            "top": null,
            "grid_column": null,
            "overflow_y": null,
            "overflow_x": null,
            "grid_auto_flow": null,
            "grid_area": null,
            "grid_template_columns": null,
            "flex": null,
            "_model_name": "LayoutModel",
            "justify_items": null,
            "grid_row": null,
            "max_height": null,
            "align_content": null,
            "visibility": null,
            "align_self": null,
            "height": null,
            "min_height": null,
            "padding": null,
            "grid_auto_rows": null,
            "grid_gap": null,
            "max_width": null,
            "order": null,
            "_view_module_version": "1.2.0",
            "grid_template_areas": null,
            "object_position": null,
            "object_fit": null,
            "grid_auto_columns": null,
            "margin": null,
            "display": null,
            "left": null
          }
        }
      }
    }
  },
  "cells": [
    {
      "cell_type": "markdown",
      "metadata": {
        "id": "view-in-github",
        "colab_type": "text"
      },
      "source": [
        "<a href=\"https://colab.research.google.com/github/patrickjwolf/DS-Unit-2-Kaggle-Challenge/blob/master/module2/Patrick_Wolf_assignment_kaggle_challenge_2.ipynb\" target=\"_parent\"><img src=\"https://colab.research.google.com/assets/colab-badge.svg\" alt=\"Open In Colab\"/></a>"
      ]
    },
    {
      "cell_type": "markdown",
      "metadata": {
        "id": "uAId8HrAgrCv",
        "colab_type": "text"
      },
      "source": [
        "Lambda School Data Science\n",
        "\n",
        "*Unit 2, Sprint 2, Module 2*\n",
        "\n",
        "---"
      ]
    },
    {
      "cell_type": "markdown",
      "metadata": {
        "colab_type": "text",
        "id": "7IXUfiQ2UKj6"
      },
      "source": [
        "# Random Forests\n",
        "\n",
        "## Assignment\n",
        "- [ ] Read [“Adopting a Hypothesis-Driven Workflow”](https://outline.com/5S5tsB), a blog post by a Lambda DS student about the Tanzania Waterpumps challenge.\n",
        "- [ ] Continue to participate in our Kaggle challenge.\n",
        "- [ ] Define a function to wrangle train, validate, and test sets in the same way. Clean outliers and engineer features.\n",
        "- [ ] Try Ordinal Encoding.\n",
        "- [ ] Try a Random Forest Classifier.\n",
        "- [ ] Submit your predictions to our Kaggle competition. (Go to our Kaggle InClass competition webpage. Use the blue **Submit Predictions** button to upload your CSV file. Or you can use the Kaggle API to submit your predictions.)\n",
        "- [ ] Commit your notebook to your fork of the GitHub repo.\n",
        "\n",
        "## Stretch Goals\n",
        "\n",
        "### Doing\n",
        "- [ ] Add your own stretch goal(s) !\n",
        "- [ ] Do more exploratory data analysis, data cleaning, feature engineering, and feature selection.\n",
        "- [ ] Try other [categorical encodings](https://contrib.scikit-learn.org/categorical-encoding/).\n",
        "- [ ] Get and plot your feature importances.\n",
        "- [ ] Make visualizations and share on Slack.\n",
        "\n",
        "### Reading\n",
        "\n",
        "Top recommendations in _**bold italic:**_\n",
        "\n",
        "#### Decision Trees\n",
        "- A Visual Introduction to Machine Learning, [Part 1: A Decision Tree](http://www.r2d3.us/visual-intro-to-machine-learning-part-1/),  and _**[Part 2: Bias and Variance](http://www.r2d3.us/visual-intro-to-machine-learning-part-2/)**_\n",
        "- [Decision Trees: Advantages & Disadvantages](https://christophm.github.io/interpretable-ml-book/tree.html#advantages-2)\n",
        "- [How a Russian mathematician constructed a decision tree — by hand — to solve a medical problem](http://fastml.com/how-a-russian-mathematician-constructed-a-decision-tree-by-hand-to-solve-a-medical-problem/)\n",
        "- [How decision trees work](https://brohrer.github.io/how_decision_trees_work.html)\n",
        "- [Let’s Write a Decision Tree Classifier from Scratch](https://www.youtube.com/watch?v=LDRbO9a6XPU)\n",
        "\n",
        "#### Random Forests\n",
        "- [_An Introduction to Statistical Learning_](http://www-bcf.usc.edu/~gareth/ISL/), Chapter 8: Tree-Based Methods\n",
        "- [Coloring with Random Forests](http://structuringtheunstructured.blogspot.com/2017/11/coloring-with-random-forests.html)\n",
        "- _**[Random Forests for Complete Beginners: The definitive guide to Random Forests and Decision Trees](https://victorzhou.com/blog/intro-to-random-forests/)**_\n",
        "\n",
        "#### Categorical encoding for trees\n",
        "- [Are categorical variables getting lost in your random forests?](https://roamanalytics.com/2016/10/28/are-categorical-variables-getting-lost-in-your-random-forests/)\n",
        "- [Beyond One-Hot: An Exploration of Categorical Variables](http://www.willmcginnis.com/2015/11/29/beyond-one-hot-an-exploration-of-categorical-variables/)\n",
        "- _**[Categorical Features and Encoding in Decision Trees](https://medium.com/data-design/visiting-categorical-features-and-encoding-in-decision-trees-53400fa65931)**_\n",
        "- _**[Coursera — How to Win a Data Science Competition: Learn from Top Kagglers — Concept of mean encoding](https://www.coursera.org/lecture/competitive-data-science/concept-of-mean-encoding-b5Gxv)**_\n",
        "- [Mean (likelihood) encodings: a comprehensive study](https://www.kaggle.com/vprokopev/mean-likelihood-encodings-a-comprehensive-study)\n",
        "- [The Mechanics of Machine Learning, Chapter 6: Categorically Speaking](https://mlbook.explained.ai/catvars.html)\n",
        "\n",
        "#### Imposter Syndrome\n",
        "- [Effort Shock and Reward Shock (How The Karate Kid Ruined The Modern World)](http://www.tempobook.com/2014/07/09/effort-shock-and-reward-shock/)\n",
        "- [How to manage impostor syndrome in data science](https://towardsdatascience.com/how-to-manage-impostor-syndrome-in-data-science-ad814809f068)\n",
        "- [\"I am not a real data scientist\"](https://brohrer.github.io/imposter_syndrome.html)\n",
        "- _**[Imposter Syndrome in Data Science](https://caitlinhudon.com/2018/01/19/imposter-syndrome-in-data-science/)**_\n",
        "\n",
        "\n",
        "### More Categorical Encodings\n",
        "\n",
        "**1.** The article **[Categorical Features and Encoding in Decision Trees](https://medium.com/data-design/visiting-categorical-features-and-encoding-in-decision-trees-53400fa65931)** mentions 4 encodings:\n",
        "\n",
        "- **\"Categorical Encoding\":** This means using the raw categorical values as-is, not encoded. Scikit-learn doesn't support this, but some tree algorithm implementations do. For example, [Catboost](https://catboost.ai/), or R's [rpart](https://cran.r-project.org/web/packages/rpart/index.html) package.\n",
        "- **Numeric Encoding:** Synonymous with Label Encoding, or \"Ordinal\" Encoding with random order. We can use [category_encoders.OrdinalEncoder](https://contrib.scikit-learn.org/categorical-encoding/ordinal.html).\n",
        "- **One-Hot Encoding:** We can use [category_encoders.OneHotEncoder](http://contrib.scikit-learn.org/categorical-encoding/onehot.html).\n",
        "- **Binary Encoding:** We can use [category_encoders.BinaryEncoder](http://contrib.scikit-learn.org/categorical-encoding/binary.html).\n",
        "\n",
        "\n",
        "**2.** The short video \n",
        "**[Coursera — How to Win a Data Science Competition: Learn from Top Kagglers — Concept of mean encoding](https://www.coursera.org/lecture/competitive-data-science/concept-of-mean-encoding-b5Gxv)** introduces an interesting idea: use both X _and_ y to encode categoricals.\n",
        "\n",
        "Category Encoders has multiple implementations of this general concept:\n",
        "\n",
        "- [CatBoost Encoder](http://contrib.scikit-learn.org/categorical-encoding/catboost.html)\n",
        "- [James-Stein Encoder](http://contrib.scikit-learn.org/categorical-encoding/jamesstein.html)\n",
        "- [Leave One Out](http://contrib.scikit-learn.org/categorical-encoding/leaveoneout.html)\n",
        "- [M-estimate](http://contrib.scikit-learn.org/categorical-encoding/mestimate.html)\n",
        "- [Target Encoder](http://contrib.scikit-learn.org/categorical-encoding/targetencoder.html)\n",
        "- [Weight of Evidence](http://contrib.scikit-learn.org/categorical-encoding/woe.html)\n",
        "\n",
        "Category Encoder's mean encoding implementations work for regression problems or binary classification problems. \n",
        "\n",
        "For multi-class classification problems, you will need to temporarily reformulate it as binary classification. For example:\n",
        "\n",
        "```python\n",
        "encoder = ce.TargetEncoder(min_samples_leaf=..., smoothing=...) # Both parameters > 1 to avoid overfitting\n",
        "X_train_encoded = encoder.fit_transform(X_train, y_train=='functional')\n",
        "X_val_encoded = encoder.transform(X_train, y_val=='functional')\n",
        "```\n",
        "\n",
        "For this reason, mean encoding won't work well within pipelines for multi-class classification problems.\n",
        "\n",
        "**3.** The **[dirty_cat](https://dirty-cat.github.io/stable/)** library has a Target Encoder implementation that works with multi-class classification.\n",
        "\n",
        "```python\n",
        " dirty_cat.TargetEncoder(clf_type='multiclass-clf')\n",
        "```\n",
        "It also implements an interesting idea called [\"Similarity Encoder\" for dirty categories](https://www.slideshare.net/GaelVaroquaux/machine-learning-on-non-curated-data-154905090).\n",
        "\n",
        "However, it seems like dirty_cat doesn't handle missing values or unknown categories as well as category_encoders does. And you may need to use it with one column at a time, instead of with your whole dataframe.\n",
        "\n",
        "**4. [Embeddings](https://www.kaggle.com/learn/embeddings)** can work well with sparse / high cardinality categoricals.\n",
        "\n",
        "_**I hope it’s not too frustrating or confusing that there’s not one “canonical” way to encode categoricals. It’s an active area of research and experimentation! Maybe you can make your own contributions!**_"
      ]
    },
    {
      "cell_type": "markdown",
      "metadata": {
        "id": "0JpnV48cgrDM",
        "colab_type": "text"
      },
      "source": [
        "### Setup\n",
        "\n",
        "You can work locally (follow the [local setup instructions](https://lambdaschool.github.io/ds/unit2/local/)) or on Colab (run the code cell below)."
      ]
    },
    {
      "cell_type": "code",
      "metadata": {
        "colab_type": "code",
        "id": "o9eSnDYhUGD7",
        "colab": {}
      },
      "source": [
        "%%capture\n",
        "import sys\n",
        "\n",
        "# If you're on Colab:\n",
        "if 'google.colab' in sys.modules:\n",
        "    DATA_PATH = 'https://raw.githubusercontent.com/LambdaSchool/DS-Unit-2-Kaggle-Challenge/master/data/'\n",
        "    !pip install category_encoders==2.*\n",
        "\n",
        "# If you're working locally:\n",
        "else:\n",
        "    DATA_PATH = '../data/'"
      ],
      "execution_count": 0,
      "outputs": []
    },
    {
      "cell_type": "code",
      "metadata": {
        "colab_type": "code",
        "id": "QJBD4ruICm1m",
        "outputId": "d8818afb-63ab-46e3-b02a-d9fb01bc8ce7",
        "colab": {
          "base_uri": "https://localhost:8080/",
          "height": 34
        }
      },
      "source": [
        "import pandas as pd\n",
        "from sklearn.model_selection import train_test_split\n",
        "\n",
        "train = pd.merge(pd.read_csv(DATA_PATH+'waterpumps/train_features.csv'), \n",
        "                 pd.read_csv(DATA_PATH+'waterpumps/train_labels.csv'))\n",
        "test = pd.read_csv(DATA_PATH+'waterpumps/test_features.csv')\n",
        "sample_submission = pd.read_csv(DATA_PATH+'waterpumps/sample_submission.csv')\n",
        "\n",
        "train.shape, test.shape"
      ],
      "execution_count": 0,
      "outputs": [
        {
          "output_type": "execute_result",
          "data": {
            "text/plain": [
              "((59400, 41), (14358, 40))"
            ]
          },
          "metadata": {
            "tags": []
          },
          "execution_count": 2
        }
      ]
    },
    {
      "cell_type": "code",
      "metadata": {
        "id": "umluXn_bgrEM",
        "colab_type": "code",
        "colab": {}
      },
      "source": [
        "import numpy as np\n",
        "import pandas as pd\n",
        "from sklearn.model_selection import train_test_split\n",
        "\n",
        "# Merge train_features.csv & train_labels.csv\n",
        "train = pd.merge(pd.read_csv(DATA_PATH+'waterpumps/train_features.csv'), \n",
        "                 pd.read_csv(DATA_PATH+'waterpumps/train_labels.csv'))\n",
        "\n",
        "# Read test_features.csv & sample_submission.csv\n",
        "test = pd.read_csv(DATA_PATH+'waterpumps/test_features.csv')\n",
        "sample_submission = pd.read_csv(DATA_PATH+'waterpumps/sample_submission.csv')\n",
        "\n",
        "# Split train into train & val\n",
        "train, val = train_test_split(train, train_size=0.80, test_size=0.20, \n",
        "                              stratify=train['status_group'], random_state=42)\n",
        "\n",
        "\n",
        "def wrangle(X):\n",
        "    \"\"\"Wrangle train, validate, and test sets in the same way\"\"\"\n",
        "    \n",
        "    # Prevent SettingWithCopyWarning\n",
        "    X = X.copy()\n",
        "    \n",
        "    # About 3% of the time, latitude has small values near zero,\n",
        "    # outside Tanzania, so we'll treat these values like zero.\n",
        "    X['latitude'] = X['latitude'].replace(-2e-08, 0)\n",
        "    \n",
        "    # When columns have zeros and shouldn't, they are like null values.\n",
        "    # So we will replace the zeros with nulls, and impute missing values later.\n",
        "    # Also create a \"missing indicator\" column, because the fact that\n",
        "    # values are missing may be a predictive signal.\n",
        "    cols_with_zeros = ['longitude', 'latitude', 'construction_year', \n",
        "                       'gps_height', 'population']\n",
        "    for col in cols_with_zeros:\n",
        "        X[col] = X[col].replace(0, np.nan)\n",
        "        X[col+'_MISSING'] = X[col].isnull()\n",
        "            \n",
        "    # Drop duplicate columns\n",
        "    duplicates = ['quantity_group', 'payment_type']\n",
        "    X = X.drop(columns=duplicates)\n",
        "    \n",
        "    # Drop recorded_by (never varies) and id (always varies, random)\n",
        "    unusable_variance = ['recorded_by', 'id']\n",
        "    X = X.drop(columns=unusable_variance)\n",
        "    \n",
        "    # Convert date_recorded to datetime\n",
        "    X['date_recorded'] = pd.to_datetime(X['date_recorded'], infer_datetime_format=True)\n",
        "    \n",
        "    # Extract components from date_recorded, then drop the original column\n",
        "    X['year_recorded'] = X['date_recorded'].dt.year\n",
        "    X['month_recorded'] = X['date_recorded'].dt.month\n",
        "    X['day_recorded'] = X['date_recorded'].dt.day\n",
        "    X = X.drop(columns='date_recorded')\n",
        "    \n",
        "    # Engineer feature: how many years from construction_year to date_recorded\n",
        "    X['years'] = X['year_recorded'] - X['construction_year']\n",
        "    X['years_MISSING'] = X['years'].isnull()\n",
        "    \n",
        "    # return the wrangled dataframe\n",
        "    return X\n",
        "\n",
        "train = wrangle(train)\n",
        "val = wrangle(val)\n",
        "test = wrangle(test)"
      ],
      "execution_count": 0,
      "outputs": []
    },
    {
      "cell_type": "code",
      "metadata": {
        "id": "Pob-awfPyerw",
        "colab_type": "code",
        "colab": {}
      },
      "source": [
        "# The status_group column is the target\n",
        "target = 'status_group'\n",
        "\n",
        "# Get a dataframe with all train columns except the target\n",
        "train_features = train.drop(columns=[target])\n",
        "\n",
        "# Get a list of the numeric features\n",
        "numeric_features = train_features.select_dtypes(include='number').columns.tolist()\n",
        "\n",
        "# Get a series with the cardinality of the nonnumeric features\n",
        "cardinality = train_features.select_dtypes(exclude='number').nunique()\n",
        "\n",
        "# Get a list of all categorical features with cardinality <= 50\n",
        "categorical_features = cardinality[cardinality <= 50].index.tolist()\n",
        "\n",
        "# Combine the lists \n",
        "features = numeric_features + categorical_features"
      ],
      "execution_count": 0,
      "outputs": []
    },
    {
      "cell_type": "code",
      "metadata": {
        "id": "1utAy95JyepF",
        "colab_type": "code",
        "colab": {}
      },
      "source": [
        "# Arrange data into X features matrix and y target vector \n",
        "X_train = train[features]\n",
        "y_train = train[target]\n",
        "X_val = val[features]\n",
        "y_val = val[target]\n",
        "X_test = test[features]"
      ],
      "execution_count": 0,
      "outputs": []
    },
    {
      "cell_type": "code",
      "metadata": {
        "id": "hEksrgNOyemc",
        "colab_type": "code",
        "outputId": "f16ffcc4-71a2-4971-ae43-30e9b4d1dbae",
        "colab": {
          "base_uri": "https://localhost:8080/",
          "height": 68
        }
      },
      "source": [
        "%%time\n",
        "# WARNING: the %%time command sometimes has quirks/bugs\n",
        "\n",
        "# TODO\n",
        "\n",
        "import category_encoders as ce\n",
        "from sklearn.ensemble import RandomForestClassifier\n",
        "from sklearn.impute import SimpleImputer\n",
        "from sklearn.pipeline import make_pipeline\n",
        "\n",
        "pipeline = make_pipeline(\n",
        "    ce.OneHotEncoder(use_cat_names=True), \n",
        "    SimpleImputer(strategy='median'), \n",
        "    RandomForestClassifier(n_estimators=100, n_jobs=-1, random_state=0)\n",
        ")\n",
        "\n",
        "# Fit on train, score on val\n",
        "pipeline.fit(X_train, y_train)\n",
        "print('Validation Accuracy', pipeline.score(X_val, y_val))"
      ],
      "execution_count": 0,
      "outputs": [
        {
          "output_type": "stream",
          "text": [
            "Validation Accuracy 0.8088383838383838\n",
            "CPU times: user 25.2 s, sys: 366 ms, total: 25.6 s\n",
            "Wall time: 15.8 s\n"
          ],
          "name": "stdout"
        }
      ]
    },
    {
      "cell_type": "code",
      "metadata": {
        "id": "hYdvOyenyeju",
        "colab_type": "code",
        "outputId": "28d74831-e9e2-4850-e833-afab9ede42db",
        "colab": {
          "base_uri": "https://localhost:8080/",
          "height": 51
        }
      },
      "source": [
        "print('X_train shape before encoding', X_train.shape)\n",
        "\n",
        "encoder = pipeline.named_steps['onehotencoder']\n",
        "encoded = encoder.transform(X_train)\n",
        "\n",
        "print('X_train shape after encoding', encoded.shape)"
      ],
      "execution_count": 0,
      "outputs": [
        {
          "output_type": "stream",
          "text": [
            "X_train shape before encoding (47520, 38)\n",
            "X_train shape after encoding (47520, 182)\n"
          ],
          "name": "stdout"
        }
      ]
    },
    {
      "cell_type": "code",
      "metadata": {
        "id": "-PZjlIMxyegh",
        "colab_type": "code",
        "outputId": "3061b2fc-653f-438b-ebcd-01a132de3c74",
        "colab": {
          "base_uri": "https://localhost:8080/",
          "height": 607
        }
      },
      "source": [
        "%matplotlib inline\n",
        "import matplotlib.pyplot as plt\n",
        "\n",
        "# Get feature importances\n",
        "rf = pipeline.named_steps['randomforestclassifier']\n",
        "importances = pd.Series(rf.feature_importances_, encoded.columns)\n",
        "\n",
        "# Plot top n feature importances\n",
        "n = 20\n",
        "plt.figure(figsize=(10,n/2))\n",
        "plt.title(f'Top {n} features')\n",
        "importances.sort_values()[-n:].plot.barh(color='grey');"
      ],
      "execution_count": 0,
      "outputs": [
        {
          "output_type": "display_data",
          "data": {
            "image/png": "[encoded data removed]",
            "text/plain": [
              "<Figure size 720x720 with 1 Axes>"
            ]
          },
          "metadata": {
            "tags": []
          }
        }
      ]
    },
    {
      "cell_type": "code",
      "metadata": {
        "id": "cy8KIZSsyeYR",
        "colab_type": "code",
        "outputId": "665cf3ca-1b36-46b8-dc9c-cd549534284a",
        "colab": {
          "base_uri": "https://localhost:8080/",
          "height": 68
        }
      },
      "source": [
        "%%time\n",
        "\n",
        "# Arrange data into X features matrix and y target vector\n",
        "# so we use *all* features, including the high-cardinality categoricals\n",
        "X_train = train.drop(columns=target)\n",
        "y_train = train[target]\n",
        "X_val = val.drop(columns=target)\n",
        "y_val = val[target]\n",
        "X_test = test\n",
        "\n",
        "# The pipeline is identical to the example cell above, \n",
        "# except we're replacing one-hot encoder with \"ordinal\" encoder\n",
        "pipeline = make_pipeline(\n",
        "    ce.OrdinalEncoder(), \n",
        "    SimpleImputer(strategy='median'), \n",
        "    RandomForestClassifier(n_estimators=100, random_state=0, n_jobs=-1)\n",
        ")\n",
        "\n",
        "# Fit on train, score on val\n",
        "pipeline.fit(X_train, y_train)\n",
        "print('Validation Accuracy', pipeline.score(X_val, y_val))"
      ],
      "execution_count": 0,
      "outputs": [
        {
          "output_type": "stream",
          "text": [
            "Validation Accuracy 0.8092592592592592\n",
            "CPU times: user 18.2 s, sys: 159 ms, total: 18.4 s\n",
            "Wall time: 10.1 s\n"
          ],
          "name": "stdout"
        }
      ]
    },
    {
      "cell_type": "code",
      "metadata": {
        "id": "ej5JukcM09p3",
        "colab_type": "code",
        "outputId": "15ed8a3f-0bb0-4472-9dab-f6765a6cecc5",
        "colab": {
          "base_uri": "https://localhost:8080/",
          "height": 51
        }
      },
      "source": [
        "print('X_train shape before encoding', X_train.shape)\n",
        "\n",
        "encoder = pipeline.named_steps['ordinalencoder']\n",
        "encoded = encoder.transform(X_train)\n",
        "\n",
        "print('X_train shape after encoding', encoded.shape)"
      ],
      "execution_count": 0,
      "outputs": [
        {
          "output_type": "stream",
          "text": [
            "X_train shape before encoding (47520, 45)\n",
            "X_train shape after encoding (47520, 45)\n"
          ],
          "name": "stdout"
        }
      ]
    },
    {
      "cell_type": "code",
      "metadata": {
        "id": "Rypxtbtn0-AW",
        "colab_type": "code",
        "outputId": "0c9e0c16-f3c3-4830-996a-e503da5b0df3",
        "colab": {
          "base_uri": "https://localhost:8080/",
          "height": 607
        }
      },
      "source": [
        "# Get feature importances\n",
        "rf = pipeline.named_steps['randomforestclassifier']\n",
        "importances = pd.Series(rf.feature_importances_, encoded.columns)\n",
        "\n",
        "# Plot top n feature importances\n",
        "n = 20\n",
        "plt.figure(figsize=(10,n/2))\n",
        "plt.title(f'Top {n} features')\n",
        "importances.sort_values()[-n:].plot.barh(color='grey');"
      ],
      "execution_count": 0,
      "outputs": [
        {
          "output_type": "display_data",
          "data": {
            "image/png": "[encoded data removed]",
            "text/plain": [
              "<Figure size 720x720 with 1 Axes>"
            ]
          },
          "metadata": {
            "tags": []
          }
        }
      ]
    },
    {
      "cell_type": "code",
      "metadata": {
        "id": "kH1c49iy099q",
        "colab_type": "code",
        "outputId": "4acd441c-907a-4c98-fa2e-ee80c6549a11",
        "colab": {
          "base_uri": "https://localhost:8080/",
          "height": 102
        }
      },
      "source": [
        "X_train['wpt_name'].describe()"
      ],
      "execution_count": 0,
      "outputs": [
        {
          "output_type": "execute_result",
          "data": {
            "text/plain": [
              "count     47520\n",
              "unique    30661\n",
              "top        none\n",
              "freq       2879\n",
              "Name: wpt_name, dtype: object"
            ]
          },
          "metadata": {
            "tags": []
          },
          "execution_count": 13
        }
      ]
    },
    {
      "cell_type": "code",
      "metadata": {
        "id": "G7kUMLyL097H",
        "colab_type": "code",
        "outputId": "a27ff907-8c65-4639-9351-1e9c9f90cd2b",
        "colab": {
          "base_uri": "https://localhost:8080/",
          "height": 221
        }
      },
      "source": [
        "X_train['wpt_name'].value_counts()"
      ],
      "execution_count": 0,
      "outputs": [
        {
          "output_type": "execute_result",
          "data": {
            "text/plain": [
              "none                  2879\n",
              "Shuleni               1416\n",
              "Zahanati               675\n",
              "Msikitini              424\n",
              "Kanisani               253\n",
              "                      ... \n",
              "Awaki                    1\n",
              "Kwa Ndamukuzi            1\n",
              "Fredrick Mathias         1\n",
              "Kwa Karani Lekamoi       1\n",
              "Kwa Miranzi              1\n",
              "Name: wpt_name, Length: 30661, dtype: int64"
            ]
          },
          "metadata": {
            "tags": []
          },
          "execution_count": 14
        }
      ]
    },
    {
      "cell_type": "code",
      "metadata": {
        "id": "q9EgvzHa094D",
        "colab_type": "code",
        "outputId": "8dcae716-aa9d-4327-82ac-ef4c26243490",
        "colab": {
          "base_uri": "https://localhost:8080/",
          "height": 221
        }
      },
      "source": [
        "encoded['wpt_name'].value_counts()"
      ],
      "execution_count": 0,
      "outputs": [
        {
          "output_type": "execute_result",
          "data": {
            "text/plain": [
              "27       2879\n",
              "73       1416\n",
              "8         675\n",
              "69        424\n",
              "46        253\n",
              "         ... \n",
              "2162        1\n",
              "115         1\n",
              "14452       1\n",
              "12405       1\n",
              "2047        1\n",
              "Name: wpt_name, Length: 30661, dtype: int64"
            ]
          },
          "metadata": {
            "tags": []
          },
          "execution_count": 15
        }
      ]
    },
    {
      "cell_type": "code",
      "metadata": {
        "id": "Z5TiFhG309zJ",
        "colab_type": "code",
        "colab": {}
      },
      "source": [
        "feature = 'extraction_type_class'"
      ],
      "execution_count": 0,
      "outputs": []
    },
    {
      "cell_type": "code",
      "metadata": {
        "id": "K-Wk98671UiY",
        "colab_type": "code",
        "outputId": "d60a5ef0-51e2-427c-9d7e-590b02bbc1e4",
        "colab": {
          "base_uri": "https://localhost:8080/",
          "height": 153
        }
      },
      "source": [
        "X_train[feature].value_counts()"
      ],
      "execution_count": 0,
      "outputs": [
        {
          "output_type": "execute_result",
          "data": {
            "text/plain": [
              "gravity         21448\n",
              "handpump        13184\n",
              "other            5193\n",
              "submersible      4894\n",
              "motorpump        2355\n",
              "rope pump         353\n",
              "wind-powered       93\n",
              "Name: extraction_type_class, dtype: int64"
            ]
          },
          "metadata": {
            "tags": []
          },
          "execution_count": 17
        }
      ]
    },
    {
      "cell_type": "code",
      "metadata": {
        "id": "wtHZoCP71U7y",
        "colab_type": "code",
        "outputId": "5b785a0e-ea94-4b96-aaa5-d39c411111d8",
        "colab": {
          "base_uri": "https://localhost:8080/",
          "height": 552
        }
      },
      "source": [
        "import seaborn as sns\n",
        "plt.figure(figsize=(16,9))\n",
        "sns.barplot(\n",
        "    x=train[feature], \n",
        "    y=train['status_group']=='functional', \n",
        "    color='grey'\n",
        ");"
      ],
      "execution_count": 0,
      "outputs": [
        {
          "output_type": "display_data",
          "data": {
            "image/png": "[encoded data removed]",
            "text/plain": [
              "<Figure size 1152x648 with 1 Axes>"
            ]
          },
          "metadata": {
            "tags": []
          }
        }
      ]
    },
    {
      "cell_type": "code",
      "metadata": {
        "id": "izHf4Nln1U1z",
        "colab_type": "code",
        "outputId": "7d0abb88-6fad-4081-97b9-3ecd17eaece5",
        "colab": {
          "base_uri": "https://localhost:8080/",
          "height": 374
        }
      },
      "source": [
        "X_train[feature].head(20)"
      ],
      "execution_count": 0,
      "outputs": [
        {
          "output_type": "execute_result",
          "data": {
            "text/plain": [
              "43360        gravity\n",
              "7263         gravity\n",
              "2486        handpump\n",
              "313            other\n",
              "52726      motorpump\n",
              "8558         gravity\n",
              "2559         gravity\n",
              "54735      motorpump\n",
              "25763       handpump\n",
              "44540    submersible\n",
              "28603          other\n",
              "4372     submersible\n",
              "30666        gravity\n",
              "6431     submersible\n",
              "57420          other\n",
              "1373         gravity\n",
              "2026         gravity\n",
              "58977       handpump\n",
              "41101        gravity\n",
              "10019        gravity\n",
              "Name: extraction_type_class, dtype: object"
            ]
          },
          "metadata": {
            "tags": []
          },
          "execution_count": 20
        }
      ]
    },
    {
      "cell_type": "code",
      "metadata": {
        "id": "ZEexoQyj1Uw4",
        "colab_type": "code",
        "outputId": "6ddcfe3b-bb0f-4f90-e60e-fcabc7b9a1fc",
        "colab": {
          "base_uri": "https://localhost:8080/",
          "height": 723
        }
      },
      "source": [
        "encoder = ce.OneHotEncoder(use_cat_names=True)\n",
        "encoded = encoder.fit_transform(X_train[[feature]])\n",
        "print(f'{len(encoded.columns)} columns')\n",
        "encoded.head(20)"
      ],
      "execution_count": 0,
      "outputs": [
        {
          "output_type": "stream",
          "text": [
            "7 columns\n"
          ],
          "name": "stdout"
        },
        {
          "output_type": "execute_result",
          "data": {
            "text/html": [
              "<div>\n",
              "<style scoped>\n",
              "    .dataframe tbody tr th:only-of-type {\n",
              "        vertical-align: middle;\n",
              "    }\n",
              "\n",
              "    .dataframe tbody tr th {\n",
              "        vertical-align: top;\n",
              "    }\n",
              "\n",
              "    .dataframe thead th {\n",
              "        text-align: right;\n",
              "    }\n",
              "</style>\n",
              "<table border=\"1\" class=\"dataframe\">\n",
              "  <thead>\n",
              "    <tr style=\"text-align: right;\">\n",
              "      <th></th>\n",
              "      <th>extraction_type_class_gravity</th>\n",
              "      <th>extraction_type_class_handpump</th>\n",
              "      <th>extraction_type_class_other</th>\n",
              "      <th>extraction_type_class_motorpump</th>\n",
              "      <th>extraction_type_class_submersible</th>\n",
              "      <th>extraction_type_class_rope pump</th>\n",
              "      <th>extraction_type_class_wind-powered</th>\n",
              "    </tr>\n",
              "  </thead>\n",
              "  <tbody>\n",
              "    <tr>\n",
              "      <th>43360</th>\n",
              "      <td>1</td>\n",
              "      <td>0</td>\n",
              "      <td>0</td>\n",
              "      <td>0</td>\n",
              "      <td>0</td>\n",
              "      <td>0</td>\n",
              "      <td>0</td>\n",
              "    </tr>\n",
              "    <tr>\n",
              "      <th>7263</th>\n",
              "      <td>1</td>\n",
              "      <td>0</td>\n",
              "      <td>0</td>\n",
              "      <td>0</td>\n",
              "      <td>0</td>\n",
              "      <td>0</td>\n",
              "      <td>0</td>\n",
              "    </tr>\n",
              "    <tr>\n",
              "      <th>2486</th>\n",
              "      <td>0</td>\n",
              "      <td>1</td>\n",
              "      <td>0</td>\n",
              "      <td>0</td>\n",
              "      <td>0</td>\n",
              "      <td>0</td>\n",
              "      <td>0</td>\n",
              "    </tr>\n",
              "    <tr>\n",
              "      <th>313</th>\n",
              "      <td>0</td>\n",
              "      <td>0</td>\n",
              "      <td>1</td>\n",
              "      <td>0</td>\n",
              "      <td>0</td>\n",
              "      <td>0</td>\n",
              "      <td>0</td>\n",
              "    </tr>\n",
              "    <tr>\n",
              "      <th>52726</th>\n",
              "      <td>0</td>\n",
              "      <td>0</td>\n",
              "      <td>0</td>\n",
              "      <td>1</td>\n",
              "      <td>0</td>\n",
              "      <td>0</td>\n",
              "      <td>0</td>\n",
              "    </tr>\n",
              "    <tr>\n",
              "      <th>8558</th>\n",
              "      <td>1</td>\n",
              "      <td>0</td>\n",
              "      <td>0</td>\n",
              "      <td>0</td>\n",
              "      <td>0</td>\n",
              "      <td>0</td>\n",
              "      <td>0</td>\n",
              "    </tr>\n",
              "    <tr>\n",
              "      <th>2559</th>\n",
              "      <td>1</td>\n",
              "      <td>0</td>\n",
              "      <td>0</td>\n",
              "      <td>0</td>\n",
              "      <td>0</td>\n",
              "      <td>0</td>\n",
              "      <td>0</td>\n",
              "    </tr>\n",
              "    <tr>\n",
              "      <th>54735</th>\n",
              "      <td>0</td>\n",
              "      <td>0</td>\n",
              "      <td>0</td>\n",
              "      <td>1</td>\n",
              "      <td>0</td>\n",
              "      <td>0</td>\n",
              "      <td>0</td>\n",
              "    </tr>\n",
              "    <tr>\n",
              "      <th>25763</th>\n",
              "      <td>0</td>\n",
              "      <td>1</td>\n",
              "      <td>0</td>\n",
              "      <td>0</td>\n",
              "      <td>0</td>\n",
              "      <td>0</td>\n",
              "      <td>0</td>\n",
              "    </tr>\n",
              "    <tr>\n",
              "      <th>44540</th>\n",
              "      <td>0</td>\n",
              "      <td>0</td>\n",
              "      <td>0</td>\n",
              "      <td>0</td>\n",
              "      <td>1</td>\n",
              "      <td>0</td>\n",
              "      <td>0</td>\n",
              "    </tr>\n",
              "    <tr>\n",
              "      <th>28603</th>\n",
              "      <td>0</td>\n",
              "      <td>0</td>\n",
              "      <td>1</td>\n",
              "      <td>0</td>\n",
              "      <td>0</td>\n",
              "      <td>0</td>\n",
              "      <td>0</td>\n",
              "    </tr>\n",
              "    <tr>\n",
              "      <th>4372</th>\n",
              "      <td>0</td>\n",
              "      <td>0</td>\n",
              "      <td>0</td>\n",
              "      <td>0</td>\n",
              "      <td>1</td>\n",
              "      <td>0</td>\n",
              "      <td>0</td>\n",
              "    </tr>\n",
              "    <tr>\n",
              "      <th>30666</th>\n",
              "      <td>1</td>\n",
              "      <td>0</td>\n",
              "      <td>0</td>\n",
              "      <td>0</td>\n",
              "      <td>0</td>\n",
              "      <td>0</td>\n",
              "      <td>0</td>\n",
              "    </tr>\n",
              "    <tr>\n",
              "      <th>6431</th>\n",
              "      <td>0</td>\n",
              "      <td>0</td>\n",
              "      <td>0</td>\n",
              "      <td>0</td>\n",
              "      <td>1</td>\n",
              "      <td>0</td>\n",
              "      <td>0</td>\n",
              "    </tr>\n",
              "    <tr>\n",
              "      <th>57420</th>\n",
              "      <td>0</td>\n",
              "      <td>0</td>\n",
              "      <td>1</td>\n",
              "      <td>0</td>\n",
              "      <td>0</td>\n",
              "      <td>0</td>\n",
              "      <td>0</td>\n",
              "    </tr>\n",
              "    <tr>\n",
              "      <th>1373</th>\n",
              "      <td>1</td>\n",
              "      <td>0</td>\n",
              "      <td>0</td>\n",
              "      <td>0</td>\n",
              "      <td>0</td>\n",
              "      <td>0</td>\n",
              "      <td>0</td>\n",
              "    </tr>\n",
              "    <tr>\n",
              "      <th>2026</th>\n",
              "      <td>1</td>\n",
              "      <td>0</td>\n",
              "      <td>0</td>\n",
              "      <td>0</td>\n",
              "      <td>0</td>\n",
              "      <td>0</td>\n",
              "      <td>0</td>\n",
              "    </tr>\n",
              "    <tr>\n",
              "      <th>58977</th>\n",
              "      <td>0</td>\n",
              "      <td>1</td>\n",
              "      <td>0</td>\n",
              "      <td>0</td>\n",
              "      <td>0</td>\n",
              "      <td>0</td>\n",
              "      <td>0</td>\n",
              "    </tr>\n",
              "    <tr>\n",
              "      <th>41101</th>\n",
              "      <td>1</td>\n",
              "      <td>0</td>\n",
              "      <td>0</td>\n",
              "      <td>0</td>\n",
              "      <td>0</td>\n",
              "      <td>0</td>\n",
              "      <td>0</td>\n",
              "    </tr>\n",
              "    <tr>\n",
              "      <th>10019</th>\n",
              "      <td>1</td>\n",
              "      <td>0</td>\n",
              "      <td>0</td>\n",
              "      <td>0</td>\n",
              "      <td>0</td>\n",
              "      <td>0</td>\n",
              "      <td>0</td>\n",
              "    </tr>\n",
              "  </tbody>\n",
              "</table>\n",
              "</div>"
            ],
            "text/plain": [
              "       extraction_type_class_gravity  ...  extraction_type_class_wind-powered\n",
              "43360                              1  ...                                   0\n",
              "7263                               1  ...                                   0\n",
              "2486                               0  ...                                   0\n",
              "313                                0  ...                                   0\n",
              "52726                              0  ...                                   0\n",
              "8558                               1  ...                                   0\n",
              "2559                               1  ...                                   0\n",
              "54735                              0  ...                                   0\n",
              "25763                              0  ...                                   0\n",
              "44540                              0  ...                                   0\n",
              "28603                              0  ...                                   0\n",
              "4372                               0  ...                                   0\n",
              "30666                              1  ...                                   0\n",
              "6431                               0  ...                                   0\n",
              "57420                              0  ...                                   0\n",
              "1373                               1  ...                                   0\n",
              "2026                               1  ...                                   0\n",
              "58977                              0  ...                                   0\n",
              "41101                              1  ...                                   0\n",
              "10019                              1  ...                                   0\n",
              "\n",
              "[20 rows x 7 columns]"
            ]
          },
          "metadata": {
            "tags": []
          },
          "execution_count": 21
        }
      ]
    },
    {
      "cell_type": "markdown",
      "metadata": {
        "id": "SFIGEEdp27Bq",
        "colab_type": "text"
      },
      "source": [
        "**One-Hot Encoding, Logistic Regression, Validation Accuracy**"
      ]
    },
    {
      "cell_type": "code",
      "metadata": {
        "id": "TqLZofxs1Uto",
        "colab_type": "code",
        "outputId": "bf68d382-9d42-4232-cf09-d21159a07bc6",
        "colab": {
          "base_uri": "https://localhost:8080/",
          "height": 34
        }
      },
      "source": [
        "from sklearn.linear_model import LogisticRegressionCV\n",
        "from sklearn.preprocessing import StandardScaler\n",
        "\n",
        "lr = make_pipeline(\n",
        "    ce.OneHotEncoder(use_cat_names=True), \n",
        "    SimpleImputer(), \n",
        "    StandardScaler(), \n",
        "    LogisticRegressionCV(multi_class='auto', solver='lbfgs', cv=5, n_jobs=-1)\n",
        ")\n",
        "\n",
        "lr.fit(X_train[[feature]], y_train)\n",
        "score = lr.score(X_val[[feature]], y_val)\n",
        "print('Logistic Regression, Validation Accuracy', score)"
      ],
      "execution_count": 0,
      "outputs": [
        {
          "output_type": "stream",
          "text": [
            "Logistic Regression, Validation Accuracy 0.6202861952861953\n"
          ],
          "name": "stdout"
        }
      ]
    },
    {
      "cell_type": "markdown",
      "metadata": {
        "id": "xgP6Ix_52-mR",
        "colab_type": "text"
      },
      "source": [
        "**One-Hot Encoding, Decision Tree, Validation Accuracy**"
      ]
    },
    {
      "cell_type": "code",
      "metadata": {
        "id": "ozyuv3OP1Uo4",
        "colab_type": "code",
        "outputId": "0cd990da-1165-40eb-ba88-7d3dbe05059f",
        "colab": {
          "base_uri": "https://localhost:8080/",
          "height": 34
        }
      },
      "source": [
        "from sklearn.tree import DecisionTreeClassifier\n",
        "\n",
        "dt = make_pipeline(\n",
        "    ce.OneHotEncoder(use_cat_names=True), \n",
        "    SimpleImputer(), \n",
        "    DecisionTreeClassifier(random_state=42)\n",
        ")\n",
        "\n",
        "dt.fit(X_train[[feature]], y_train)\n",
        "score = dt.score(X_val[[feature]], y_val)\n",
        "print('Decision Tree, Validation Accuracy', score)"
      ],
      "execution_count": 0,
      "outputs": [
        {
          "output_type": "stream",
          "text": [
            "Decision Tree, Validation Accuracy 0.6202861952861953\n"
          ],
          "name": "stdout"
        }
      ]
    },
    {
      "cell_type": "markdown",
      "metadata": {
        "id": "y9b6P3wW3Fll",
        "colab_type": "text"
      },
      "source": [
        "**One-Hot Encoding, Logistic Regression, Model Interpretation**"
      ]
    },
    {
      "cell_type": "code",
      "metadata": {
        "id": "RZFEgs8A3F8Y",
        "colab_type": "code",
        "outputId": "01024255-44a5-4916-8577-5c8235a6255e",
        "colab": {
          "base_uri": "https://localhost:8080/",
          "height": 265
        }
      },
      "source": [
        "model = lr.named_steps['logisticregressioncv']\n",
        "encoder = lr.named_steps['onehotencoder']\n",
        "encoded_columns = encoder.transform(X_val[[feature]]).columns\n",
        "coefficients = pd.Series(model.coef_[0], encoded_columns)\n",
        "coefficients.sort_values().plot.barh(color='grey');"
      ],
      "execution_count": 0,
      "outputs": [
        {
          "output_type": "display_data",
          "data": {
            "image/png": "[encoded data removed]",
            "text/plain": [
              "<Figure size 432x288 with 1 Axes>"
            ]
          },
          "metadata": {
            "tags": []
          }
        }
      ]
    },
    {
      "cell_type": "markdown",
      "metadata": {
        "id": "yRY5eh353Ord",
        "colab_type": "text"
      },
      "source": [
        "**One-Hot Encoding, Decision Tree, Model Interpretation**"
      ]
    },
    {
      "cell_type": "code",
      "metadata": {
        "id": "yyDaXVVA3GOA",
        "colab_type": "code",
        "outputId": "dd8ba69c-6901-44ad-bd99-6bac8c0717f8",
        "colab": {
          "base_uri": "https://localhost:8080/",
          "height": 954
        }
      },
      "source": [
        "# Plot tree\n",
        "# https://scikit-learn.org/stable/modules/generated/sklearn.tree.export_graphviz.html\n",
        "import graphviz\n",
        "from sklearn.tree import export_graphviz\n",
        "\n",
        "model = dt.named_steps['decisiontreeclassifier']\n",
        "encoder = dt.named_steps['onehotencoder']\n",
        "encoded_columns = encoder.transform(X_val[[feature]]).columns\n",
        "\n",
        "dot_data = export_graphviz(model, \n",
        "                           out_file=None, \n",
        "                           max_depth=7, \n",
        "                           feature_names=encoded_columns,\n",
        "                           class_names=model.classes_, \n",
        "                           impurity=False, \n",
        "                           filled=True, \n",
        "                           proportion=True, \n",
        "                           rounded=True)   \n",
        "display(graphviz.Source(dot_data))"
      ],
      "execution_count": 0,
      "outputs": [
        {
          "output_type": "display_data",
          "data": {
            "text/plain": [
              "<graphviz.files.Source at 0x7f80fa3f8f98>"
            ],
            "image/svg+xml": "<?xml version=\"1.0\" encoding=\"UTF-8\" standalone=\"no\"?>\n<!DOCTYPE svg PUBLIC \"-//W3C//DTD SVG 1.1//EN\"\n \"http://www.w3.org/Graphics/SVG/1.1/DTD/svg11.dtd\">\n<!-- Generated by graphviz version 2.40.1 (20161225.0304)\n -->\n<!-- Title: Tree Pages: 1 -->\n<svg width=\"1067pt\" height=\"685pt\"\n viewBox=\"0.00 0.00 1067.00 685.00\" xmlns=\"http://www.w3.org/2000/svg\" xmlns:xlink=\"http://www.w3.org/1999/xlink\">\n<g id=\"graph0\" class=\"graph\" transform=\"scale(1 1) rotate(0) translate(4 681)\">\n<title>Tree</title>\n<polygon fill=\"#ffffff\" stroke=\"transparent\" points=\"-4,4 -4,-681 1063,-681 1063,4 -4,4\"/>\n<!-- 0 -->\n<g id=\"node1\" class=\"node\">\n<title>0</title>\n<path fill=\"#f8decc\" stroke=\"#000000\" d=\"M944.5,-677C944.5,-677 725.5,-677 725.5,-677 719.5,-677 713.5,-671 713.5,-665 713.5,-665 713.5,-621 713.5,-621 713.5,-615 719.5,-609 725.5,-609 725.5,-609 944.5,-609 944.5,-609 950.5,-609 956.5,-615 956.5,-621 956.5,-621 956.5,-665 956.5,-665 956.5,-671 950.5,-677 944.5,-677\"/>\n<text text-anchor=\"middle\" x=\"835\" y=\"-661.8\" font-family=\"Helvetica,sans-Serif\" font-size=\"14.00\" fill=\"#000000\">extraction_type_class_other &lt;= 0.5</text>\n<text text-anchor=\"middle\" x=\"835\" y=\"-646.8\" font-family=\"Helvetica,sans-Serif\" font-size=\"14.00\" fill=\"#000000\">samples = 100.0%</text>\n<text text-anchor=\"middle\" x=\"835\" y=\"-631.8\" font-family=\"Helvetica,sans-Serif\" font-size=\"14.00\" fill=\"#000000\">value = [0.543, 0.073, 0.384]</text>\n<text text-anchor=\"middle\" x=\"835\" y=\"-616.8\" font-family=\"Helvetica,sans-Serif\" font-size=\"14.00\" fill=\"#000000\">class = functional</text>\n</g>\n<!-- 1 -->\n<g id=\"node2\" class=\"node\">\n<title>1</title>\n<path fill=\"#f5ceb2\" stroke=\"#000000\" d=\"M837,-573C837,-573 577,-573 577,-573 571,-573 565,-567 565,-561 565,-561 565,-517 565,-517 565,-511 571,-505 577,-505 577,-505 837,-505 837,-505 843,-505 849,-511 849,-517 849,-517 849,-561 849,-561 849,-567 843,-573 837,-573\"/>\n<text text-anchor=\"middle\" x=\"707\" y=\"-557.8\" font-family=\"Helvetica,sans-Serif\" font-size=\"14.00\" fill=\"#000000\">extraction_type_class_motorpump &lt;= 0.5</text>\n<text text-anchor=\"middle\" x=\"707\" y=\"-542.8\" font-family=\"Helvetica,sans-Serif\" font-size=\"14.00\" fill=\"#000000\">samples = 89.1%</text>\n<text text-anchor=\"middle\" x=\"707\" y=\"-527.8\" font-family=\"Helvetica,sans-Serif\" font-size=\"14.00\" fill=\"#000000\">value = [0.59, 0.078, 0.332]</text>\n<text text-anchor=\"middle\" x=\"707\" y=\"-512.8\" font-family=\"Helvetica,sans-Serif\" font-size=\"14.00\" fill=\"#000000\">class = functional</text>\n</g>\n<!-- 0&#45;&gt;1 -->\n<g id=\"edge1\" class=\"edge\">\n<title>0&#45;&gt;1</title>\n<path fill=\"none\" stroke=\"#000000\" d=\"M793.088,-608.9465C781.485,-599.519 768.7779,-589.1946 756.7741,-579.4415\"/>\n<polygon fill=\"#000000\" stroke=\"#000000\" points=\"758.9744,-576.7196 749.0061,-573.13 754.5602,-582.1524 758.9744,-576.7196\"/>\n<text text-anchor=\"middle\" x=\"751.5786\" y=\"-594.2973\" font-family=\"Helvetica,sans-Serif\" font-size=\"14.00\" fill=\"#000000\">True</text>\n</g>\n<!-- 12 -->\n<g id=\"node13\" class=\"node\">\n<title>12</title>\n<path fill=\"#9d66eb\" stroke=\"#000000\" d=\"M1047,-565.5C1047,-565.5 879,-565.5 879,-565.5 873,-565.5 867,-559.5 867,-553.5 867,-553.5 867,-524.5 867,-524.5 867,-518.5 873,-512.5 879,-512.5 879,-512.5 1047,-512.5 1047,-512.5 1053,-512.5 1059,-518.5 1059,-524.5 1059,-524.5 1059,-553.5 1059,-553.5 1059,-559.5 1053,-565.5 1047,-565.5\"/>\n<text text-anchor=\"middle\" x=\"963\" y=\"-550.3\" font-family=\"Helvetica,sans-Serif\" font-size=\"14.00\" fill=\"#000000\">samples = 10.9%</text>\n<text text-anchor=\"middle\" x=\"963\" y=\"-535.3\" font-family=\"Helvetica,sans-Serif\" font-size=\"14.00\" fill=\"#000000\">value = [0.159, 0.031, 0.81]</text>\n<text text-anchor=\"middle\" x=\"963\" y=\"-520.3\" font-family=\"Helvetica,sans-Serif\" font-size=\"14.00\" fill=\"#000000\">class = non functional</text>\n</g>\n<!-- 0&#45;&gt;12 -->\n<g id=\"edge12\" class=\"edge\">\n<title>0&#45;&gt;12</title>\n<path fill=\"none\" stroke=\"#000000\" d=\"M876.912,-608.9465C891.5533,-597.0504 907.9526,-583.726 922.4785,-571.9237\"/>\n<polygon fill=\"#000000\" stroke=\"#000000\" points=\"924.7786,-574.5645 930.3327,-565.5422 920.3645,-569.1317 924.7786,-574.5645\"/>\n<text text-anchor=\"middle\" x=\"927.7602\" y=\"-586.7095\" font-family=\"Helvetica,sans-Serif\" font-size=\"14.00\" fill=\"#000000\">False</text>\n</g>\n<!-- 2 -->\n<g id=\"node3\" class=\"node\">\n<title>2</title>\n<path fill=\"#f4caac\" stroke=\"#000000\" d=\"M708.5,-469C708.5,-469 443.5,-469 443.5,-469 437.5,-469 431.5,-463 431.5,-457 431.5,-457 431.5,-413 431.5,-413 431.5,-407 437.5,-401 443.5,-401 443.5,-401 708.5,-401 708.5,-401 714.5,-401 720.5,-407 720.5,-413 720.5,-413 720.5,-457 720.5,-457 720.5,-463 714.5,-469 708.5,-469\"/>\n<text text-anchor=\"middle\" x=\"576\" y=\"-453.8\" font-family=\"Helvetica,sans-Serif\" font-size=\"14.00\" fill=\"#000000\">extraction_type_class_submersible &lt;= 0.5</text>\n<text text-anchor=\"middle\" x=\"576\" y=\"-438.8\" font-family=\"Helvetica,sans-Serif\" font-size=\"14.00\" fill=\"#000000\">samples = 84.1%</text>\n<text text-anchor=\"middle\" x=\"576\" y=\"-423.8\" font-family=\"Helvetica,sans-Serif\" font-size=\"14.00\" fill=\"#000000\">value = [0.603, 0.08, 0.318]</text>\n<text text-anchor=\"middle\" x=\"576\" y=\"-408.8\" font-family=\"Helvetica,sans-Serif\" font-size=\"14.00\" fill=\"#000000\">class = functional</text>\n</g>\n<!-- 1&#45;&gt;2 -->\n<g id=\"edge2\" class=\"edge\">\n<title>1&#45;&gt;2</title>\n<path fill=\"none\" stroke=\"#000000\" d=\"M664.1057,-504.9465C652.2307,-495.519 639.2259,-485.1946 626.9407,-475.4415\"/>\n<polygon fill=\"#000000\" stroke=\"#000000\" points=\"628.9989,-472.6066 618.9907,-469.13 624.6464,-478.089 628.9989,-472.6066\"/>\n</g>\n<!-- 11 -->\n<g id=\"node12\" class=\"node\">\n<title>11</title>\n<path fill=\"#d8c1f7\" stroke=\"#000000\" d=\"M927,-461.5C927,-461.5 751,-461.5 751,-461.5 745,-461.5 739,-455.5 739,-449.5 739,-449.5 739,-420.5 739,-420.5 739,-414.5 745,-408.5 751,-408.5 751,-408.5 927,-408.5 927,-408.5 933,-408.5 939,-414.5 939,-420.5 939,-420.5 939,-449.5 939,-449.5 939,-455.5 933,-461.5 927,-461.5\"/>\n<text text-anchor=\"middle\" x=\"839\" y=\"-446.3\" font-family=\"Helvetica,sans-Serif\" font-size=\"14.00\" fill=\"#000000\">samples = 5.0%</text>\n<text text-anchor=\"middle\" x=\"839\" y=\"-431.3\" font-family=\"Helvetica,sans-Serif\" font-size=\"14.00\" fill=\"#000000\">value = [0.381, 0.045, 0.574]</text>\n<text text-anchor=\"middle\" x=\"839\" y=\"-416.3\" font-family=\"Helvetica,sans-Serif\" font-size=\"14.00\" fill=\"#000000\">class = non functional</text>\n</g>\n<!-- 1&#45;&gt;11 -->\n<g id=\"edge11\" class=\"edge\">\n<title>1&#45;&gt;11</title>\n<path fill=\"none\" stroke=\"#000000\" d=\"M750.2217,-504.9465C765.3206,-493.0504 782.2324,-479.726 797.2122,-467.9237\"/>\n<polygon fill=\"#000000\" stroke=\"#000000\" points=\"799.623,-470.4802 805.3119,-461.5422 795.2909,-464.9817 799.623,-470.4802\"/>\n</g>\n<!-- 3 -->\n<g id=\"node4\" class=\"node\">\n<title>3</title>\n<path fill=\"#f4c7a8\" stroke=\"#000000\" d=\"M568.5,-365C568.5,-365 339.5,-365 339.5,-365 333.5,-365 327.5,-359 327.5,-353 327.5,-353 327.5,-309 327.5,-309 327.5,-303 333.5,-297 339.5,-297 339.5,-297 568.5,-297 568.5,-297 574.5,-297 580.5,-303 580.5,-309 580.5,-309 580.5,-353 580.5,-353 580.5,-359 574.5,-365 568.5,-365\"/>\n<text text-anchor=\"middle\" x=\"454\" y=\"-349.8\" font-family=\"Helvetica,sans-Serif\" font-size=\"14.00\" fill=\"#000000\">extraction_type_class_gravity &lt;= 0.5</text>\n<text text-anchor=\"middle\" x=\"454\" y=\"-334.8\" font-family=\"Helvetica,sans-Serif\" font-size=\"14.00\" fill=\"#000000\">samples = 73.8%</text>\n<text text-anchor=\"middle\" x=\"454\" y=\"-319.8\" font-family=\"Helvetica,sans-Serif\" font-size=\"14.00\" fill=\"#000000\">value = [0.611, 0.085, 0.304]</text>\n<text text-anchor=\"middle\" x=\"454\" y=\"-304.8\" font-family=\"Helvetica,sans-Serif\" font-size=\"14.00\" fill=\"#000000\">class = functional</text>\n</g>\n<!-- 2&#45;&gt;3 -->\n<g id=\"edge3\" class=\"edge\">\n<title>2&#45;&gt;3</title>\n<path fill=\"none\" stroke=\"#000000\" d=\"M536.0526,-400.9465C525.0988,-391.6088 513.1127,-381.3911 501.768,-371.7203\"/>\n<polygon fill=\"#000000\" stroke=\"#000000\" points=\"503.9179,-368.9538 494.0371,-365.13 499.3767,-374.2809 503.9179,-368.9538\"/>\n</g>\n<!-- 10 -->\n<g id=\"node11\" class=\"node\">\n<title>10</title>\n<path fill=\"#f9e4d5\" stroke=\"#000000\" d=\"M787,-357.5C787,-357.5 611,-357.5 611,-357.5 605,-357.5 599,-351.5 599,-345.5 599,-345.5 599,-316.5 599,-316.5 599,-310.5 605,-304.5 611,-304.5 611,-304.5 787,-304.5 787,-304.5 793,-304.5 799,-310.5 799,-316.5 799,-316.5 799,-345.5 799,-345.5 799,-351.5 793,-357.5 787,-357.5\"/>\n<text text-anchor=\"middle\" x=\"699\" y=\"-342.3\" font-family=\"Helvetica,sans-Serif\" font-size=\"14.00\" fill=\"#000000\">samples = 10.3%</text>\n<text text-anchor=\"middle\" x=\"699\" y=\"-327.3\" font-family=\"Helvetica,sans-Serif\" font-size=\"14.00\" fill=\"#000000\">value = [0.541, 0.042, 0.416]</text>\n<text text-anchor=\"middle\" x=\"699\" y=\"-312.3\" font-family=\"Helvetica,sans-Serif\" font-size=\"14.00\" fill=\"#000000\">class = functional</text>\n</g>\n<!-- 2&#45;&gt;10 -->\n<g id=\"edge10\" class=\"edge\">\n<title>2&#45;&gt;10</title>\n<path fill=\"none\" stroke=\"#000000\" d=\"M616.2748,-400.9465C630.2139,-389.1606 645.8112,-375.9726 659.6732,-364.2519\"/>\n<polygon fill=\"#000000\" stroke=\"#000000\" points=\"662.2324,-366.6715 667.6088,-357.5422 657.7127,-361.3262 662.2324,-366.6715\"/>\n</g>\n<!-- 4 -->\n<g id=\"node5\" class=\"node\">\n<title>4</title>\n<path fill=\"#f3c5a4\" stroke=\"#000000\" d=\"M458.5,-261C458.5,-261 181.5,-261 181.5,-261 175.5,-261 169.5,-255 169.5,-249 169.5,-249 169.5,-205 169.5,-205 169.5,-199 175.5,-193 181.5,-193 181.5,-193 458.5,-193 458.5,-193 464.5,-193 470.5,-199 470.5,-205 470.5,-205 470.5,-249 470.5,-249 470.5,-255 464.5,-261 458.5,-261\"/>\n<text text-anchor=\"middle\" x=\"320\" y=\"-245.8\" font-family=\"Helvetica,sans-Serif\" font-size=\"14.00\" fill=\"#000000\">extraction_type_class_wind&#45;powered &lt;= 0.5</text>\n<text text-anchor=\"middle\" x=\"320\" y=\"-230.8\" font-family=\"Helvetica,sans-Serif\" font-size=\"14.00\" fill=\"#000000\">samples = 28.7%</text>\n<text text-anchor=\"middle\" x=\"320\" y=\"-215.8\" font-family=\"Helvetica,sans-Serif\" font-size=\"14.00\" fill=\"#000000\">value = [0.629, 0.059, 0.311]</text>\n<text text-anchor=\"middle\" x=\"320\" y=\"-200.8\" font-family=\"Helvetica,sans-Serif\" font-size=\"14.00\" fill=\"#000000\">class = functional</text>\n</g>\n<!-- 3&#45;&gt;4 -->\n<g id=\"edge4\" class=\"edge\">\n<title>3&#45;&gt;4</title>\n<path fill=\"none\" stroke=\"#000000\" d=\"M410.1234,-296.9465C397.9765,-287.519 384.6738,-277.1946 372.1073,-267.4415\"/>\n<polygon fill=\"#000000\" stroke=\"#000000\" points=\"374.021,-264.4963 363.9752,-261.13 369.7291,-270.0262 374.021,-264.4963\"/>\n</g>\n<!-- 9 -->\n<g id=\"node10\" class=\"node\">\n<title>9</title>\n<path fill=\"#f4c9aa\" stroke=\"#000000\" d=\"M677,-253.5C677,-253.5 501,-253.5 501,-253.5 495,-253.5 489,-247.5 489,-241.5 489,-241.5 489,-212.5 489,-212.5 489,-206.5 495,-200.5 501,-200.5 501,-200.5 677,-200.5 677,-200.5 683,-200.5 689,-206.5 689,-212.5 689,-212.5 689,-241.5 689,-241.5 689,-247.5 683,-253.5 677,-253.5\"/>\n<text text-anchor=\"middle\" x=\"589\" y=\"-238.3\" font-family=\"Helvetica,sans-Serif\" font-size=\"14.00\" fill=\"#000000\">samples = 45.1%</text>\n<text text-anchor=\"middle\" x=\"589\" y=\"-223.3\" font-family=\"Helvetica,sans-Serif\" font-size=\"14.00\" fill=\"#000000\">value = [0.599, 0.101, 0.299]</text>\n<text text-anchor=\"middle\" x=\"589\" y=\"-208.3\" font-family=\"Helvetica,sans-Serif\" font-size=\"14.00\" fill=\"#000000\">class = functional</text>\n</g>\n<!-- 3&#45;&gt;9 -->\n<g id=\"edge9\" class=\"edge\">\n<title>3&#45;&gt;9</title>\n<path fill=\"none\" stroke=\"#000000\" d=\"M498.204,-296.9465C513.6461,-285.0504 530.9422,-271.726 546.2625,-259.9237\"/>\n<polygon fill=\"#000000\" stroke=\"#000000\" points=\"548.7603,-262.4176 554.5462,-253.5422 544.4883,-256.8723 548.7603,-262.4176\"/>\n</g>\n<!-- 5 -->\n<g id=\"node6\" class=\"node\">\n<title>5</title>\n<path fill=\"#f3c4a3\" stroke=\"#000000\" d=\"M319,-157C319,-157 63,-157 63,-157 57,-157 51,-151 51,-145 51,-145 51,-101 51,-101 51,-95 57,-89 63,-89 63,-89 319,-89 319,-89 325,-89 331,-95 331,-101 331,-101 331,-145 331,-145 331,-151 325,-157 319,-157\"/>\n<text text-anchor=\"middle\" x=\"191\" y=\"-141.8\" font-family=\"Helvetica,sans-Serif\" font-size=\"14.00\" fill=\"#000000\">extraction_type_class_rope pump &lt;= 0.5</text>\n<text text-anchor=\"middle\" x=\"191\" y=\"-126.8\" font-family=\"Helvetica,sans-Serif\" font-size=\"14.00\" fill=\"#000000\">samples = 28.5%</text>\n<text text-anchor=\"middle\" x=\"191\" y=\"-111.8\" font-family=\"Helvetica,sans-Serif\" font-size=\"14.00\" fill=\"#000000\">value = [0.631, 0.059, 0.31]</text>\n<text text-anchor=\"middle\" x=\"191\" y=\"-96.8\" font-family=\"Helvetica,sans-Serif\" font-size=\"14.00\" fill=\"#000000\">class = functional</text>\n</g>\n<!-- 4&#45;&gt;5 -->\n<g id=\"edge5\" class=\"edge\">\n<title>4&#45;&gt;5</title>\n<path fill=\"none\" stroke=\"#000000\" d=\"M277.7606,-192.9465C266.0669,-183.519 253.2606,-173.1946 241.163,-163.4415\"/>\n<polygon fill=\"#000000\" stroke=\"#000000\" points=\"243.3162,-160.6816 233.3343,-157.13 238.9227,-166.1312 243.3162,-160.6816\"/>\n</g>\n<!-- 8 -->\n<g id=\"node9\" class=\"node\">\n<title>8</title>\n<path fill=\"#f8f3fd\" stroke=\"#000000\" d=\"M537,-149.5C537,-149.5 361,-149.5 361,-149.5 355,-149.5 349,-143.5 349,-137.5 349,-137.5 349,-108.5 349,-108.5 349,-102.5 355,-96.5 361,-96.5 361,-96.5 537,-96.5 537,-96.5 543,-96.5 549,-102.5 549,-108.5 549,-108.5 549,-137.5 549,-137.5 549,-143.5 543,-149.5 537,-149.5\"/>\n<text text-anchor=\"middle\" x=\"449\" y=\"-134.3\" font-family=\"Helvetica,sans-Serif\" font-size=\"14.00\" fill=\"#000000\">samples = 0.2%</text>\n<text text-anchor=\"middle\" x=\"449\" y=\"-119.3\" font-family=\"Helvetica,sans-Serif\" font-size=\"14.00\" fill=\"#000000\">value = [0.452, 0.065, 0.484]</text>\n<text text-anchor=\"middle\" x=\"449\" y=\"-104.3\" font-family=\"Helvetica,sans-Serif\" font-size=\"14.00\" fill=\"#000000\">class = non functional</text>\n</g>\n<!-- 4&#45;&gt;8 -->\n<g id=\"edge8\" class=\"edge\">\n<title>4&#45;&gt;8</title>\n<path fill=\"none\" stroke=\"#000000\" d=\"M362.2394,-192.9465C376.9952,-181.0504 393.5225,-167.726 408.162,-155.9237\"/>\n<polygon fill=\"#000000\" stroke=\"#000000\" points=\"410.4891,-158.5433 416.0775,-149.5422 406.0957,-153.0938 410.4891,-158.5433\"/>\n</g>\n<!-- 6 -->\n<g id=\"node7\" class=\"node\">\n<title>6</title>\n<path fill=\"#f3c5a3\" stroke=\"#000000\" d=\"M164,-53C164,-53 12,-53 12,-53 6,-53 0,-47 0,-41 0,-41 0,-12 0,-12 0,-6 6,0 12,0 12,0 164,0 164,0 170,0 176,-6 176,-12 176,-12 176,-41 176,-41 176,-47 170,-53 164,-53\"/>\n<text text-anchor=\"middle\" x=\"88\" y=\"-37.8\" font-family=\"Helvetica,sans-Serif\" font-size=\"14.00\" fill=\"#000000\">samples = 27.7%</text>\n<text text-anchor=\"middle\" x=\"88\" y=\"-22.8\" font-family=\"Helvetica,sans-Serif\" font-size=\"14.00\" fill=\"#000000\">value = [0.63, 0.06, 0.31]</text>\n<text text-anchor=\"middle\" x=\"88\" y=\"-7.8\" font-family=\"Helvetica,sans-Serif\" font-size=\"14.00\" fill=\"#000000\">class = functional</text>\n</g>\n<!-- 5&#45;&gt;6 -->\n<g id=\"edge6\" class=\"edge\">\n<title>5&#45;&gt;6</title>\n<path fill=\"none\" stroke=\"#000000\" d=\"M154.6861,-88.9777C144.7168,-79.6376 133.9138,-69.5163 123.9643,-60.1947\"/>\n<polygon fill=\"#000000\" stroke=\"#000000\" points=\"126.2408,-57.5314 116.5502,-53.2485 121.4548,-62.6397 126.2408,-57.5314\"/>\n</g>\n<!-- 7 -->\n<g id=\"node8\" class=\"node\">\n<title>7</title>\n<path fill=\"#f2bf9b\" stroke=\"#000000\" d=\"M382,-53C382,-53 206,-53 206,-53 200,-53 194,-47 194,-41 194,-41 194,-12 194,-12 194,-6 200,0 206,0 206,0 382,0 382,0 388,0 394,-6 394,-12 394,-12 394,-41 394,-41 394,-47 388,-53 382,-53\"/>\n<text text-anchor=\"middle\" x=\"294\" y=\"-37.8\" font-family=\"Helvetica,sans-Serif\" font-size=\"14.00\" fill=\"#000000\">samples = 0.7%</text>\n<text text-anchor=\"middle\" x=\"294\" y=\"-22.8\" font-family=\"Helvetica,sans-Serif\" font-size=\"14.00\" fill=\"#000000\">value = [0.657, 0.037, 0.306]</text>\n<text text-anchor=\"middle\" x=\"294\" y=\"-7.8\" font-family=\"Helvetica,sans-Serif\" font-size=\"14.00\" fill=\"#000000\">class = functional</text>\n</g>\n<!-- 5&#45;&gt;7 -->\n<g id=\"edge7\" class=\"edge\">\n<title>5&#45;&gt;7</title>\n<path fill=\"none\" stroke=\"#000000\" d=\"M227.3139,-88.9777C237.2832,-79.6376 248.0862,-69.5163 258.0357,-60.1947\"/>\n<polygon fill=\"#000000\" stroke=\"#000000\" points=\"260.5452,-62.6397 265.4498,-53.2485 255.7592,-57.5314 260.5452,-62.6397\"/>\n</g>\n</g>\n</svg>\n"
          },
          "metadata": {
            "tags": []
          }
        }
      ]
    },
    {
      "cell_type": "markdown",
      "metadata": {
        "id": "WL_gvh7W3X9j",
        "colab_type": "text"
      },
      "source": [
        "**Ordinal Encoding**\n",
        "\n",
        "Ordinal encoding uses a single column of integers to represent the classes. An optional mapping dict can be passed in; in this case, we use the knowledge that there is some true order to the classes themselves. Otherwise, the classes are assumed to have no true order and integers are selected at random."
      ]
    },
    {
      "cell_type": "code",
      "metadata": {
        "id": "qctJegl83Gbc",
        "colab_type": "code",
        "outputId": "f05d3387-e0fe-4397-afd6-a8432fe86d97",
        "colab": {
          "base_uri": "https://localhost:8080/",
          "height": 686
        }
      },
      "source": [
        "encoder = ce.OrdinalEncoder()\n",
        "encoded = encoder.fit_transform(X_train[[feature]])\n",
        "print(f'1 column, {encoded[feature].nunique()} unique values')\n",
        "encoded.head(20)"
      ],
      "execution_count": 0,
      "outputs": [
        {
          "output_type": "stream",
          "text": [
            "1 column, 7 unique values\n"
          ],
          "name": "stdout"
        },
        {
          "output_type": "execute_result",
          "data": {
            "text/html": [
              "<div>\n",
              "<style scoped>\n",
              "    .dataframe tbody tr th:only-of-type {\n",
              "        vertical-align: middle;\n",
              "    }\n",
              "\n",
              "    .dataframe tbody tr th {\n",
              "        vertical-align: top;\n",
              "    }\n",
              "\n",
              "    .dataframe thead th {\n",
              "        text-align: right;\n",
              "    }\n",
              "</style>\n",
              "<table border=\"1\" class=\"dataframe\">\n",
              "  <thead>\n",
              "    <tr style=\"text-align: right;\">\n",
              "      <th></th>\n",
              "      <th>extraction_type_class</th>\n",
              "    </tr>\n",
              "  </thead>\n",
              "  <tbody>\n",
              "    <tr>\n",
              "      <th>43360</th>\n",
              "      <td>1</td>\n",
              "    </tr>\n",
              "    <tr>\n",
              "      <th>7263</th>\n",
              "      <td>1</td>\n",
              "    </tr>\n",
              "    <tr>\n",
              "      <th>2486</th>\n",
              "      <td>2</td>\n",
              "    </tr>\n",
              "    <tr>\n",
              "      <th>313</th>\n",
              "      <td>3</td>\n",
              "    </tr>\n",
              "    <tr>\n",
              "      <th>52726</th>\n",
              "      <td>4</td>\n",
              "    </tr>\n",
              "    <tr>\n",
              "      <th>8558</th>\n",
              "      <td>1</td>\n",
              "    </tr>\n",
              "    <tr>\n",
              "      <th>2559</th>\n",
              "      <td>1</td>\n",
              "    </tr>\n",
              "    <tr>\n",
              "      <th>54735</th>\n",
              "      <td>4</td>\n",
              "    </tr>\n",
              "    <tr>\n",
              "      <th>25763</th>\n",
              "      <td>2</td>\n",
              "    </tr>\n",
              "    <tr>\n",
              "      <th>44540</th>\n",
              "      <td>5</td>\n",
              "    </tr>\n",
              "    <tr>\n",
              "      <th>28603</th>\n",
              "      <td>3</td>\n",
              "    </tr>\n",
              "    <tr>\n",
              "      <th>4372</th>\n",
              "      <td>5</td>\n",
              "    </tr>\n",
              "    <tr>\n",
              "      <th>30666</th>\n",
              "      <td>1</td>\n",
              "    </tr>\n",
              "    <tr>\n",
              "      <th>6431</th>\n",
              "      <td>5</td>\n",
              "    </tr>\n",
              "    <tr>\n",
              "      <th>57420</th>\n",
              "      <td>3</td>\n",
              "    </tr>\n",
              "    <tr>\n",
              "      <th>1373</th>\n",
              "      <td>1</td>\n",
              "    </tr>\n",
              "    <tr>\n",
              "      <th>2026</th>\n",
              "      <td>1</td>\n",
              "    </tr>\n",
              "    <tr>\n",
              "      <th>58977</th>\n",
              "      <td>2</td>\n",
              "    </tr>\n",
              "    <tr>\n",
              "      <th>41101</th>\n",
              "      <td>1</td>\n",
              "    </tr>\n",
              "    <tr>\n",
              "      <th>10019</th>\n",
              "      <td>1</td>\n",
              "    </tr>\n",
              "  </tbody>\n",
              "</table>\n",
              "</div>"
            ],
            "text/plain": [
              "       extraction_type_class\n",
              "43360                      1\n",
              "7263                       1\n",
              "2486                       2\n",
              "313                        3\n",
              "52726                      4\n",
              "8558                       1\n",
              "2559                       1\n",
              "54735                      4\n",
              "25763                      2\n",
              "44540                      5\n",
              "28603                      3\n",
              "4372                       5\n",
              "30666                      1\n",
              "6431                       5\n",
              "57420                      3\n",
              "1373                       1\n",
              "2026                       1\n",
              "58977                      2\n",
              "41101                      1\n",
              "10019                      1"
            ]
          },
          "metadata": {
            "tags": []
          },
          "execution_count": 26
        }
      ]
    },
    {
      "cell_type": "markdown",
      "metadata": {
        "id": "-onlX0Dl3fss",
        "colab_type": "text"
      },
      "source": [
        "**Ordinal Encoding, Logistic Regression, Validation Accuracy**"
      ]
    },
    {
      "cell_type": "code",
      "metadata": {
        "id": "x42tukD93gEs",
        "colab_type": "code",
        "outputId": "e414a7c3-c498-45e3-b2f5-4ba8eb4f41cf",
        "colab": {
          "base_uri": "https://localhost:8080/",
          "height": 34
        }
      },
      "source": [
        "lr = make_pipeline(\n",
        "    ce.OrdinalEncoder(), \n",
        "    SimpleImputer(), \n",
        "    StandardScaler(), \n",
        "    LogisticRegressionCV(multi_class='auto', solver='lbfgs', cv=5, n_jobs=-1)\n",
        ")\n",
        "\n",
        "lr.fit(X_train[[feature]], y_train)\n",
        "score = lr.score(X_val[[feature]], y_val)\n",
        "print('Logistic Regression, Validation Accuracy', score)"
      ],
      "execution_count": 0,
      "outputs": [
        {
          "output_type": "stream",
          "text": [
            "Logistic Regression, Validation Accuracy 0.5417508417508418\n"
          ],
          "name": "stdout"
        }
      ]
    },
    {
      "cell_type": "markdown",
      "metadata": {
        "id": "2R3hrYqh3qpl",
        "colab_type": "text"
      },
      "source": [
        "**Ordinal Encoding, Decision Tree, Validation Accuracy**"
      ]
    },
    {
      "cell_type": "code",
      "metadata": {
        "id": "8qNfbCG53gZr",
        "colab_type": "code",
        "outputId": "ac06aaf9-8294-43f5-c4fa-13255960246c",
        "colab": {
          "base_uri": "https://localhost:8080/",
          "height": 34
        }
      },
      "source": [
        "dt = make_pipeline(\n",
        "    ce.OrdinalEncoder(), \n",
        "    SimpleImputer(), \n",
        "    DecisionTreeClassifier(random_state=42)\n",
        ")\n",
        "\n",
        "dt.fit(X_train[[feature]], y_train)\n",
        "score = dt.score(X_val[[feature]], y_val)\n",
        "print('Decision Tree, Validation Accuracy', score)"
      ],
      "execution_count": 0,
      "outputs": [
        {
          "output_type": "stream",
          "text": [
            "Decision Tree, Validation Accuracy 0.6202861952861953\n"
          ],
          "name": "stdout"
        }
      ]
    },
    {
      "cell_type": "markdown",
      "metadata": {
        "id": "ysv5IMK63wTd",
        "colab_type": "text"
      },
      "source": [
        "**Ordinal Encoding, Logistic Regression, Model Interpretation**"
      ]
    },
    {
      "cell_type": "code",
      "metadata": {
        "id": "Nnokf3z83gqn",
        "colab_type": "code",
        "outputId": "785a82a2-c6ce-42d5-db75-e113654909b4",
        "colab": {
          "base_uri": "https://localhost:8080/",
          "height": 265
        }
      },
      "source": [
        "model = lr.named_steps['logisticregressioncv']\n",
        "encoder = lr.named_steps['ordinalencoder']\n",
        "encoded_columns = encoder.transform(X_val[[feature]]).columns\n",
        "coefficients = pd.Series(model.coef_[0], encoded_columns)\n",
        "coefficients.sort_values().plot.barh(color='grey');"
      ],
      "execution_count": 0,
      "outputs": [
        {
          "output_type": "display_data",
          "data": {
            "image/png": "[encoded data removed]",
            "text/plain": [
              "<Figure size 432x288 with 1 Axes>"
            ]
          },
          "metadata": {
            "tags": []
          }
        }
      ]
    },
    {
      "cell_type": "markdown",
      "metadata": {
        "id": "oTFi3fV-35I4",
        "colab_type": "text"
      },
      "source": [
        "**Ordinal Encoding, Decision Tree, Model Interpretation**"
      ]
    },
    {
      "cell_type": "code",
      "metadata": {
        "id": "DdGav9uU3g5O",
        "colab_type": "code",
        "outputId": "89d48679-8c58-4487-fe59-bb851805df6a",
        "colab": {
          "base_uri": "https://localhost:8080/",
          "height": 816
        }
      },
      "source": [
        "model = dt.named_steps['decisiontreeclassifier']\n",
        "encoder = dt.named_steps['ordinalencoder']\n",
        "encoded_columns = encoder.transform(X_val[[feature]]).columns\n",
        "\n",
        "dot_data = export_graphviz(model, \n",
        "                           out_file=None, \n",
        "                           max_depth=5, \n",
        "                           feature_names=encoded_columns,\n",
        "                           class_names=model.classes_, \n",
        "                           impurity=False, \n",
        "                           filled=True, \n",
        "                           proportion=True, \n",
        "                           rounded=True)   \n",
        "display(graphviz.Source(dot_data))"
      ],
      "execution_count": 0,
      "outputs": [
        {
          "output_type": "display_data",
          "data": {
            "text/plain": [
              "<graphviz.files.Source at 0x7f80f4b1a390>"
            ],
            "image/svg+xml": "<?xml version=\"1.0\" encoding=\"UTF-8\" standalone=\"no\"?>\n<!DOCTYPE svg PUBLIC \"-//W3C//DTD SVG 1.1//EN\"\n \"http://www.w3.org/Graphics/SVG/1.1/DTD/svg11.dtd\">\n<!-- Generated by graphviz version 2.40.1 (20161225.0304)\n -->\n<!-- Title: Tree Pages: 1 -->\n<svg width=\"1167pt\" height=\"581pt\"\n viewBox=\"0.00 0.00 1167.00 581.00\" xmlns=\"http://www.w3.org/2000/svg\" xmlns:xlink=\"http://www.w3.org/1999/xlink\">\n<g id=\"graph0\" class=\"graph\" transform=\"scale(1 1) rotate(0) translate(4 577)\">\n<title>Tree</title>\n<polygon fill=\"#ffffff\" stroke=\"transparent\" points=\"-4,4 -4,-577 1163,-577 1163,4 -4,4\"/>\n<!-- 0 -->\n<g id=\"node1\" class=\"node\">\n<title>0</title>\n<path fill=\"#f8decc\" stroke=\"#000000\" d=\"M500,-573C500,-573 322,-573 322,-573 316,-573 310,-567 310,-561 310,-561 310,-517 310,-517 310,-511 316,-505 322,-505 322,-505 500,-505 500,-505 506,-505 512,-511 512,-517 512,-517 512,-561 512,-561 512,-567 506,-573 500,-573\"/>\n<text text-anchor=\"middle\" x=\"411\" y=\"-557.8\" font-family=\"Helvetica,sans-Serif\" font-size=\"14.00\" fill=\"#000000\">extraction_type_class &lt;= 2.5</text>\n<text text-anchor=\"middle\" x=\"411\" y=\"-542.8\" font-family=\"Helvetica,sans-Serif\" font-size=\"14.00\" fill=\"#000000\">samples = 100.0%</text>\n<text text-anchor=\"middle\" x=\"411\" y=\"-527.8\" font-family=\"Helvetica,sans-Serif\" font-size=\"14.00\" fill=\"#000000\">value = [0.543, 0.073, 0.384]</text>\n<text text-anchor=\"middle\" x=\"411\" y=\"-512.8\" font-family=\"Helvetica,sans-Serif\" font-size=\"14.00\" fill=\"#000000\">class = functional</text>\n</g>\n<!-- 1 -->\n<g id=\"node2\" class=\"node\">\n<title>1</title>\n<path fill=\"#f4c7a8\" stroke=\"#000000\" d=\"M390,-469C390,-469 212,-469 212,-469 206,-469 200,-463 200,-457 200,-457 200,-413 200,-413 200,-407 206,-401 212,-401 212,-401 390,-401 390,-401 396,-401 402,-407 402,-413 402,-413 402,-457 402,-457 402,-463 396,-469 390,-469\"/>\n<text text-anchor=\"middle\" x=\"301\" y=\"-453.8\" font-family=\"Helvetica,sans-Serif\" font-size=\"14.00\" fill=\"#000000\">extraction_type_class &lt;= 1.5</text>\n<text text-anchor=\"middle\" x=\"301\" y=\"-438.8\" font-family=\"Helvetica,sans-Serif\" font-size=\"14.00\" fill=\"#000000\">samples = 72.9%</text>\n<text text-anchor=\"middle\" x=\"301\" y=\"-423.8\" font-family=\"Helvetica,sans-Serif\" font-size=\"14.00\" fill=\"#000000\">value = [0.611, 0.085, 0.304]</text>\n<text text-anchor=\"middle\" x=\"301\" y=\"-408.8\" font-family=\"Helvetica,sans-Serif\" font-size=\"14.00\" fill=\"#000000\">class = functional</text>\n</g>\n<!-- 0&#45;&gt;1 -->\n<g id=\"edge1\" class=\"edge\">\n<title>0&#45;&gt;1</title>\n<path fill=\"none\" stroke=\"#000000\" d=\"M374.9819,-504.9465C365.2954,-495.7884 354.7136,-485.7838 344.6603,-476.2788\"/>\n<polygon fill=\"#000000\" stroke=\"#000000\" points=\"346.7701,-473.4569 337.099,-469.13 341.961,-478.5434 346.7701,-473.4569\"/>\n<text text-anchor=\"middle\" x=\"337.7997\" y=\"-490.4202\" font-family=\"Helvetica,sans-Serif\" font-size=\"14.00\" fill=\"#000000\">True</text>\n</g>\n<!-- 4 -->\n<g id=\"node5\" class=\"node\">\n<title>4</title>\n<path fill=\"#d0b4f5\" stroke=\"#000000\" d=\"M610,-469C610,-469 432,-469 432,-469 426,-469 420,-463 420,-457 420,-457 420,-413 420,-413 420,-407 426,-401 432,-401 432,-401 610,-401 610,-401 616,-401 622,-407 622,-413 622,-413 622,-457 622,-457 622,-463 616,-469 610,-469\"/>\n<text text-anchor=\"middle\" x=\"521\" y=\"-453.8\" font-family=\"Helvetica,sans-Serif\" font-size=\"14.00\" fill=\"#000000\">extraction_type_class &lt;= 3.5</text>\n<text text-anchor=\"middle\" x=\"521\" y=\"-438.8\" font-family=\"Helvetica,sans-Serif\" font-size=\"14.00\" fill=\"#000000\">samples = 27.1%</text>\n<text text-anchor=\"middle\" x=\"521\" y=\"-423.8\" font-family=\"Helvetica,sans-Serif\" font-size=\"14.00\" fill=\"#000000\">value = [0.361, 0.038, 0.601]</text>\n<text text-anchor=\"middle\" x=\"521\" y=\"-408.8\" font-family=\"Helvetica,sans-Serif\" font-size=\"14.00\" fill=\"#000000\">class = non functional</text>\n</g>\n<!-- 0&#45;&gt;4 -->\n<g id=\"edge4\" class=\"edge\">\n<title>0&#45;&gt;4</title>\n<path fill=\"none\" stroke=\"#000000\" d=\"M447.0181,-504.9465C456.7046,-495.7884 467.2864,-485.7838 477.3397,-476.2788\"/>\n<polygon fill=\"#000000\" stroke=\"#000000\" points=\"480.039,-478.5434 484.901,-469.13 475.2299,-473.4569 480.039,-478.5434\"/>\n<text text-anchor=\"middle\" x=\"484.2003\" y=\"-490.4202\" font-family=\"Helvetica,sans-Serif\" font-size=\"14.00\" fill=\"#000000\">False</text>\n</g>\n<!-- 2 -->\n<g id=\"node3\" class=\"node\">\n<title>2</title>\n<path fill=\"#f4c9aa\" stroke=\"#000000\" d=\"M188,-357.5C188,-357.5 12,-357.5 12,-357.5 6,-357.5 0,-351.5 0,-345.5 0,-345.5 0,-316.5 0,-316.5 0,-310.5 6,-304.5 12,-304.5 12,-304.5 188,-304.5 188,-304.5 194,-304.5 200,-310.5 200,-316.5 200,-316.5 200,-345.5 200,-345.5 200,-351.5 194,-357.5 188,-357.5\"/>\n<text text-anchor=\"middle\" x=\"100\" y=\"-342.3\" font-family=\"Helvetica,sans-Serif\" font-size=\"14.00\" fill=\"#000000\">samples = 45.1%</text>\n<text text-anchor=\"middle\" x=\"100\" y=\"-327.3\" font-family=\"Helvetica,sans-Serif\" font-size=\"14.00\" fill=\"#000000\">value = [0.599, 0.101, 0.299]</text>\n<text text-anchor=\"middle\" x=\"100\" y=\"-312.3\" font-family=\"Helvetica,sans-Serif\" font-size=\"14.00\" fill=\"#000000\">class = functional</text>\n</g>\n<!-- 1&#45;&gt;2 -->\n<g id=\"edge2\" class=\"edge\">\n<title>1&#45;&gt;2</title>\n<path fill=\"none\" stroke=\"#000000\" d=\"M235.1851,-400.9465C211.1292,-388.4997 184.0513,-374.4892 160.4827,-362.2946\"/>\n<polygon fill=\"#000000\" stroke=\"#000000\" points=\"161.7878,-359.0291 151.2978,-357.5422 158.571,-365.2462 161.7878,-359.0291\"/>\n</g>\n<!-- 3 -->\n<g id=\"node4\" class=\"node\">\n<title>3</title>\n<path fill=\"#f3c5a3\" stroke=\"#000000\" d=\"M382,-357.5C382,-357.5 230,-357.5 230,-357.5 224,-357.5 218,-351.5 218,-345.5 218,-345.5 218,-316.5 218,-316.5 218,-310.5 224,-304.5 230,-304.5 230,-304.5 382,-304.5 382,-304.5 388,-304.5 394,-310.5 394,-316.5 394,-316.5 394,-345.5 394,-345.5 394,-351.5 388,-357.5 382,-357.5\"/>\n<text text-anchor=\"middle\" x=\"306\" y=\"-342.3\" font-family=\"Helvetica,sans-Serif\" font-size=\"14.00\" fill=\"#000000\">samples = 27.7%</text>\n<text text-anchor=\"middle\" x=\"306\" y=\"-327.3\" font-family=\"Helvetica,sans-Serif\" font-size=\"14.00\" fill=\"#000000\">value = [0.63, 0.06, 0.31]</text>\n<text text-anchor=\"middle\" x=\"306\" y=\"-312.3\" font-family=\"Helvetica,sans-Serif\" font-size=\"14.00\" fill=\"#000000\">class = functional</text>\n</g>\n<!-- 1&#45;&gt;3 -->\n<g id=\"edge3\" class=\"edge\">\n<title>1&#45;&gt;3</title>\n<path fill=\"none\" stroke=\"#000000\" d=\"M302.6372,-400.9465C303.1509,-390.2621 303.7199,-378.4254 304.2416,-367.5742\"/>\n<polygon fill=\"#000000\" stroke=\"#000000\" points=\"307.7396,-367.6987 304.7239,-357.5422 300.7477,-367.3625 307.7396,-367.6987\"/>\n</g>\n<!-- 5 -->\n<g id=\"node6\" class=\"node\">\n<title>5</title>\n<path fill=\"#9d66eb\" stroke=\"#000000\" d=\"M601,-357.5C601,-357.5 433,-357.5 433,-357.5 427,-357.5 421,-351.5 421,-345.5 421,-345.5 421,-316.5 421,-316.5 421,-310.5 427,-304.5 433,-304.5 433,-304.5 601,-304.5 601,-304.5 607,-304.5 613,-310.5 613,-316.5 613,-316.5 613,-345.5 613,-345.5 613,-351.5 607,-357.5 601,-357.5\"/>\n<text text-anchor=\"middle\" x=\"517\" y=\"-342.3\" font-family=\"Helvetica,sans-Serif\" font-size=\"14.00\" fill=\"#000000\">samples = 10.9%</text>\n<text text-anchor=\"middle\" x=\"517\" y=\"-327.3\" font-family=\"Helvetica,sans-Serif\" font-size=\"14.00\" fill=\"#000000\">value = [0.159, 0.031, 0.81]</text>\n<text text-anchor=\"middle\" x=\"517\" y=\"-312.3\" font-family=\"Helvetica,sans-Serif\" font-size=\"14.00\" fill=\"#000000\">class = non functional</text>\n</g>\n<!-- 4&#45;&gt;5 -->\n<g id=\"edge5\" class=\"edge\">\n<title>4&#45;&gt;5</title>\n<path fill=\"none\" stroke=\"#000000\" d=\"M519.6903,-400.9465C519.2793,-390.2621 518.8241,-378.4254 518.4067,-367.5742\"/>\n<polygon fill=\"#000000\" stroke=\"#000000\" points=\"521.9027,-367.4002 518.0209,-357.5422 514.9079,-367.6693 521.9027,-367.4002\"/>\n</g>\n<!-- 6 -->\n<g id=\"node7\" class=\"node\">\n<title>6</title>\n<path fill=\"#fdf7f2\" stroke=\"#000000\" d=\"M821,-365C821,-365 643,-365 643,-365 637,-365 631,-359 631,-353 631,-353 631,-309 631,-309 631,-303 637,-297 643,-297 643,-297 821,-297 821,-297 827,-297 833,-303 833,-309 833,-309 833,-353 833,-353 833,-359 827,-365 821,-365\"/>\n<text text-anchor=\"middle\" x=\"732\" y=\"-349.8\" font-family=\"Helvetica,sans-Serif\" font-size=\"14.00\" fill=\"#000000\">extraction_type_class &lt;= 4.5</text>\n<text text-anchor=\"middle\" x=\"732\" y=\"-334.8\" font-family=\"Helvetica,sans-Serif\" font-size=\"14.00\" fill=\"#000000\">samples = 16.2%</text>\n<text text-anchor=\"middle\" x=\"732\" y=\"-319.8\" font-family=\"Helvetica,sans-Serif\" font-size=\"14.00\" fill=\"#000000\">value = [0.497, 0.043, 0.46]</text>\n<text text-anchor=\"middle\" x=\"732\" y=\"-304.8\" font-family=\"Helvetica,sans-Serif\" font-size=\"14.00\" fill=\"#000000\">class = functional</text>\n</g>\n<!-- 4&#45;&gt;6 -->\n<g id=\"edge6\" class=\"edge\">\n<title>4&#45;&gt;6</title>\n<path fill=\"none\" stroke=\"#000000\" d=\"M590.0893,-400.9465C610.4002,-390.9354 632.7633,-379.9129 653.6112,-369.6371\"/>\n<polygon fill=\"#000000\" stroke=\"#000000\" points=\"655.3332,-372.6905 662.7555,-365.13 652.2385,-366.4117 655.3332,-372.6905\"/>\n</g>\n<!-- 7 -->\n<g id=\"node8\" class=\"node\">\n<title>7</title>\n<path fill=\"#d8c1f7\" stroke=\"#000000\" d=\"M710,-253.5C710,-253.5 534,-253.5 534,-253.5 528,-253.5 522,-247.5 522,-241.5 522,-241.5 522,-212.5 522,-212.5 522,-206.5 528,-200.5 534,-200.5 534,-200.5 710,-200.5 710,-200.5 716,-200.5 722,-206.5 722,-212.5 722,-212.5 722,-241.5 722,-241.5 722,-247.5 716,-253.5 710,-253.5\"/>\n<text text-anchor=\"middle\" x=\"622\" y=\"-238.3\" font-family=\"Helvetica,sans-Serif\" font-size=\"14.00\" fill=\"#000000\">samples = 5.0%</text>\n<text text-anchor=\"middle\" x=\"622\" y=\"-223.3\" font-family=\"Helvetica,sans-Serif\" font-size=\"14.00\" fill=\"#000000\">value = [0.381, 0.045, 0.574]</text>\n<text text-anchor=\"middle\" x=\"622\" y=\"-208.3\" font-family=\"Helvetica,sans-Serif\" font-size=\"14.00\" fill=\"#000000\">class = non functional</text>\n</g>\n<!-- 6&#45;&gt;7 -->\n<g id=\"edge7\" class=\"edge\">\n<title>6&#45;&gt;7</title>\n<path fill=\"none\" stroke=\"#000000\" d=\"M695.9819,-296.9465C683.6325,-285.2707 669.8278,-272.219 657.5183,-260.5809\"/>\n<polygon fill=\"#000000\" stroke=\"#000000\" points=\"659.7445,-257.869 650.0734,-253.5422 654.9354,-262.9556 659.7445,-257.869\"/>\n</g>\n<!-- 8 -->\n<g id=\"node9\" class=\"node\">\n<title>8</title>\n<path fill=\"#f9e2d1\" stroke=\"#000000\" d=\"M930,-261C930,-261 752,-261 752,-261 746,-261 740,-255 740,-249 740,-249 740,-205 740,-205 740,-199 746,-193 752,-193 752,-193 930,-193 930,-193 936,-193 942,-199 942,-205 942,-205 942,-249 942,-249 942,-255 936,-261 930,-261\"/>\n<text text-anchor=\"middle\" x=\"841\" y=\"-245.8\" font-family=\"Helvetica,sans-Serif\" font-size=\"14.00\" fill=\"#000000\">extraction_type_class &lt;= 5.5</text>\n<text text-anchor=\"middle\" x=\"841\" y=\"-230.8\" font-family=\"Helvetica,sans-Serif\" font-size=\"14.00\" fill=\"#000000\">samples = 11.2%</text>\n<text text-anchor=\"middle\" x=\"841\" y=\"-215.8\" font-family=\"Helvetica,sans-Serif\" font-size=\"14.00\" fill=\"#000000\">value = [0.548, 0.042, 0.41]</text>\n<text text-anchor=\"middle\" x=\"841\" y=\"-200.8\" font-family=\"Helvetica,sans-Serif\" font-size=\"14.00\" fill=\"#000000\">class = functional</text>\n</g>\n<!-- 6&#45;&gt;8 -->\n<g id=\"edge8\" class=\"edge\">\n<title>6&#45;&gt;8</title>\n<path fill=\"none\" stroke=\"#000000\" d=\"M767.6907,-296.9465C777.2891,-287.7884 787.7747,-277.7838 797.7366,-268.2788\"/>\n<polygon fill=\"#000000\" stroke=\"#000000\" points=\"800.4102,-270.5655 805.2291,-261.13 795.5779,-265.5009 800.4102,-270.5655\"/>\n</g>\n<!-- 9 -->\n<g id=\"node10\" class=\"node\">\n<title>9</title>\n<path fill=\"#f9e4d5\" stroke=\"#000000\" d=\"M819,-149.5C819,-149.5 643,-149.5 643,-149.5 637,-149.5 631,-143.5 631,-137.5 631,-137.5 631,-108.5 631,-108.5 631,-102.5 637,-96.5 643,-96.5 643,-96.5 819,-96.5 819,-96.5 825,-96.5 831,-102.5 831,-108.5 831,-108.5 831,-137.5 831,-137.5 831,-143.5 825,-149.5 819,-149.5\"/>\n<text text-anchor=\"middle\" x=\"731\" y=\"-134.3\" font-family=\"Helvetica,sans-Serif\" font-size=\"14.00\" fill=\"#000000\">samples = 10.3%</text>\n<text text-anchor=\"middle\" x=\"731\" y=\"-119.3\" font-family=\"Helvetica,sans-Serif\" font-size=\"14.00\" fill=\"#000000\">value = [0.541, 0.042, 0.416]</text>\n<text text-anchor=\"middle\" x=\"731\" y=\"-104.3\" font-family=\"Helvetica,sans-Serif\" font-size=\"14.00\" fill=\"#000000\">class = functional</text>\n</g>\n<!-- 8&#45;&gt;9 -->\n<g id=\"edge9\" class=\"edge\">\n<title>8&#45;&gt;9</title>\n<path fill=\"none\" stroke=\"#000000\" d=\"M804.9819,-192.9465C792.6325,-181.2707 778.8278,-168.219 766.5183,-156.5809\"/>\n<polygon fill=\"#000000\" stroke=\"#000000\" points=\"768.7445,-153.869 759.0734,-149.5422 763.9354,-158.9556 768.7445,-153.869\"/>\n</g>\n<!-- 10 -->\n<g id=\"node11\" class=\"node\">\n<title>10</title>\n<path fill=\"#f4cbad\" stroke=\"#000000\" d=\"M1039,-157C1039,-157 861,-157 861,-157 855,-157 849,-151 849,-145 849,-145 849,-101 849,-101 849,-95 855,-89 861,-89 861,-89 1039,-89 1039,-89 1045,-89 1051,-95 1051,-101 1051,-101 1051,-145 1051,-145 1051,-151 1045,-157 1039,-157\"/>\n<text text-anchor=\"middle\" x=\"950\" y=\"-141.8\" font-family=\"Helvetica,sans-Serif\" font-size=\"14.00\" fill=\"#000000\">extraction_type_class &lt;= 6.5</text>\n<text text-anchor=\"middle\" x=\"950\" y=\"-126.8\" font-family=\"Helvetica,sans-Serif\" font-size=\"14.00\" fill=\"#000000\">samples = 0.9%</text>\n<text text-anchor=\"middle\" x=\"950\" y=\"-111.8\" font-family=\"Helvetica,sans-Serif\" font-size=\"14.00\" fill=\"#000000\">value = [0.614, 0.043, 0.343]</text>\n<text text-anchor=\"middle\" x=\"950\" y=\"-96.8\" font-family=\"Helvetica,sans-Serif\" font-size=\"14.00\" fill=\"#000000\">class = functional</text>\n</g>\n<!-- 8&#45;&gt;10 -->\n<g id=\"edge10\" class=\"edge\">\n<title>8&#45;&gt;10</title>\n<path fill=\"none\" stroke=\"#000000\" d=\"M876.6907,-192.9465C886.2891,-183.7884 896.7747,-173.7838 906.7366,-164.2788\"/>\n<polygon fill=\"#000000\" stroke=\"#000000\" points=\"909.4102,-166.5655 914.2291,-157.13 904.5779,-161.5009 909.4102,-166.5655\"/>\n</g>\n<!-- 11 -->\n<g id=\"node12\" class=\"node\">\n<title>11</title>\n<path fill=\"#f2bf9b\" stroke=\"#000000\" d=\"M929,-53C929,-53 753,-53 753,-53 747,-53 741,-47 741,-41 741,-41 741,-12 741,-12 741,-6 747,0 753,0 753,0 929,0 929,0 935,0 941,-6 941,-12 941,-12 941,-41 941,-41 941,-47 935,-53 929,-53\"/>\n<text text-anchor=\"middle\" x=\"841\" y=\"-37.8\" font-family=\"Helvetica,sans-Serif\" font-size=\"14.00\" fill=\"#000000\">samples = 0.7%</text>\n<text text-anchor=\"middle\" x=\"841\" y=\"-22.8\" font-family=\"Helvetica,sans-Serif\" font-size=\"14.00\" fill=\"#000000\">value = [0.657, 0.037, 0.306]</text>\n<text text-anchor=\"middle\" x=\"841\" y=\"-7.8\" font-family=\"Helvetica,sans-Serif\" font-size=\"14.00\" fill=\"#000000\">class = functional</text>\n</g>\n<!-- 10&#45;&gt;11 -->\n<g id=\"edge11\" class=\"edge\">\n<title>10&#45;&gt;11</title>\n<path fill=\"none\" stroke=\"#000000\" d=\"M911.5707,-88.9777C900.9173,-79.546 889.3641,-69.3178 878.7499,-59.9208\"/>\n<polygon fill=\"#000000\" stroke=\"#000000\" points=\"881.0207,-57.2566 871.2133,-53.2485 876.3806,-62.4978 881.0207,-57.2566\"/>\n</g>\n<!-- 12 -->\n<g id=\"node13\" class=\"node\">\n<title>12</title>\n<path fill=\"#f8f3fd\" stroke=\"#000000\" d=\"M1147,-53C1147,-53 971,-53 971,-53 965,-53 959,-47 959,-41 959,-41 959,-12 959,-12 959,-6 965,0 971,0 971,0 1147,0 1147,0 1153,0 1159,-6 1159,-12 1159,-12 1159,-41 1159,-41 1159,-47 1153,-53 1147,-53\"/>\n<text text-anchor=\"middle\" x=\"1059\" y=\"-37.8\" font-family=\"Helvetica,sans-Serif\" font-size=\"14.00\" fill=\"#000000\">samples = 0.2%</text>\n<text text-anchor=\"middle\" x=\"1059\" y=\"-22.8\" font-family=\"Helvetica,sans-Serif\" font-size=\"14.00\" fill=\"#000000\">value = [0.452, 0.065, 0.484]</text>\n<text text-anchor=\"middle\" x=\"1059\" y=\"-7.8\" font-family=\"Helvetica,sans-Serif\" font-size=\"14.00\" fill=\"#000000\">class = non functional</text>\n</g>\n<!-- 10&#45;&gt;12 -->\n<g id=\"edge12\" class=\"edge\">\n<title>10&#45;&gt;12</title>\n<path fill=\"none\" stroke=\"#000000\" d=\"M988.4293,-88.9777C999.0827,-79.546 1010.6359,-69.3178 1021.2501,-59.9208\"/>\n<polygon fill=\"#000000\" stroke=\"#000000\" points=\"1023.6194,-62.4978 1028.7867,-53.2485 1018.9793,-57.2566 1023.6194,-62.4978\"/>\n</g>\n</g>\n</svg>\n"
          },
          "metadata": {
            "tags": []
          }
        }
      ]
    },
    {
      "cell_type": "markdown",
      "metadata": {
        "id": "llI82vQy4DJz",
        "colab_type": "text"
      },
      "source": [
        "**Understand how tree ensembles reduce overfitting compared to a single decision tree with unlimited depth**\n",
        "\n",
        "**Overview**\n",
        "\n",
        "**What's \"random\" about random forests?**\n",
        "Each tree trains on a random bootstrap sample of the data. (In scikit-learn, for RandomForestRegressor and RandomForestClassifier, the bootstrap parameter's default is True.) This type of ensembling is called Bagging. (Bootstrap AGGregatING.)\n",
        "Each split considers a random subset of the features. (In scikit-learn, when the max_features parameter is not None.)\n",
        "\n",
        "\n",
        "For extra randomness, you can try \"extremely randomized trees\"!\n",
        "\n",
        "In extremely randomized trees (see ExtraTreesClassifier and ExtraTreesRegressor classes), randomness goes one step further in the way splits are computed. As in random forests, a random subset of candidate features is used, but instead of looking for the most discriminative thresholds, thresholds are drawn at random for each candidate feature and the best of these randomly-generated thresholds is picked as the splitting rule. This usually allows to reduce the variance of the model a bit more, at the expense of a slightly greater increase in bias"
      ]
    },
    {
      "cell_type": "markdown",
      "metadata": {
        "id": "HBkTEMFB4O6-",
        "colab_type": "text"
      },
      "source": [
        "**Example: predicting golf putts**"
      ]
    },
    {
      "cell_type": "code",
      "metadata": {
        "id": "QQrjJYDu3hFt",
        "colab_type": "code",
        "colab": {}
      },
      "source": [
        "putts = pd.DataFrame(\n",
        "    columns=['distance', 'tries', 'successes'], \n",
        "    data = [[2, 1443, 1346],\n",
        "            [3, 694, 577],\n",
        "            [4, 455, 337],\n",
        "            [5, 353, 208],\n",
        "            [6, 272, 149],\n",
        "            [7, 256, 136],\n",
        "            [8, 240, 111],\n",
        "            [9, 217, 69],\n",
        "            [10, 200, 67],\n",
        "            [11, 237, 75],\n",
        "            [12, 202, 52],\n",
        "            [13, 192, 46],\n",
        "            [14, 174, 54],\n",
        "            [15, 167, 28],\n",
        "            [16, 201, 27],\n",
        "            [17, 195, 31],\n",
        "            [18, 191, 33],\n",
        "            [19, 147, 20],\n",
        "            [20, 152, 24]]\n",
        ")\n",
        "\n",
        "putts['rate of success'] = putts['successes'] / putts['tries']\n",
        "putts_X = putts[['distance']]\n",
        "putts_y = putts['rate of success']"
      ],
      "execution_count": 0,
      "outputs": []
    },
    {
      "cell_type": "code",
      "metadata": {
        "id": "zrk47Fyj4VrE",
        "colab_type": "code",
        "outputId": "a82cc5e1-b23c-421a-8a4b-37fed0daddae",
        "colab": {
          "base_uri": "https://localhost:8080/",
          "height": 637,
          "referenced_widgets": [
            "1a91e438640f4f59a16e2ab31b4e2a8c",
            "4852ab1bb78b49b2a280054afda310d7",
            "f043940b3a364d8294c7e0c191dcd69b",
            "495728a733254b2d96fbe4d49705df9e",
            "7e943f269b4e4234ba9f7146129f0be3",
            "733ee2b187ac4572abe1aed407564e42",
            "9f58fcc96a9943d8bdc8226b451a5c07",
            "fb1934aa26a24858ba678eab4d0837da",
            "88b4b0bc2fcf482b94c6a25e961b04d0"
          ]
        }
      },
      "source": [
        "%matplotlib inline\n",
        "import matplotlib.pyplot as plt\n",
        "from ipywidgets import interact\n",
        "from sklearn.ensemble import RandomForestRegressor\n",
        "from sklearn.tree import DecisionTreeRegressor\n",
        "\n",
        "def putt_trees(max_depth=1, n_estimators=1):\n",
        "    models = [DecisionTreeRegressor(max_depth=max_depth), \n",
        "              RandomForestRegressor(max_depth=max_depth, n_estimators=n_estimators)]\n",
        "    \n",
        "    for model in models:\n",
        "        name = model.__class__.__name__\n",
        "        model.fit(putts_X, putts_y)\n",
        "        ax = putts.plot('distance', 'rate of success', kind='scatter', title=name)\n",
        "        ax.step(putts_X, model.predict(putts_X), where='mid')\n",
        "        plt.show()\n",
        "        \n",
        "interact(putt_trees, max_depth=(1,6,1), n_estimators=(10,40,10));"
      ],
      "execution_count": 0,
      "outputs": [
        {
          "output_type": "display_data",
          "data": {
            "application/vnd.jupyter.widget-view+json": {
              "model_id": "1a91e438640f4f59a16e2ab31b4e2a8c",
              "version_minor": 0,
              "version_major": 2
            },
            "text/plain": [
              "interactive(children=(IntSlider(value=1, description='max_depth', max=6, min=1), IntSlider(value=10, descripti…"
            ]
          },
          "metadata": {
            "tags": []
          }
        }
      ]
    },
    {
      "cell_type": "markdown",
      "metadata": {
        "id": "bQXudycQ4dvE",
        "colab_type": "text"
      },
      "source": [
        "**Bagging demo, with golf putts data**\n",
        "\n",
        "https://pandas.pydata.org/pandas-docs/stable/reference/api/pandas.DataFrame.sample.html"
      ]
    },
    {
      "cell_type": "code",
      "metadata": {
        "id": "YV-kMCuw4V3P",
        "colab_type": "code",
        "outputId": "a81faf8d-c39d-4a10-85c9-279ed8c97ece",
        "colab": {
          "base_uri": "https://localhost:8080/",
          "height": 915,
          "referenced_widgets": [
            "0da69dc153384a678a9a9b010b17900f",
            "7fe7b498293f45b1b3185cf8ee2b1b70",
            "f43a4d54519b43e398aa9939c3c25e87",
            "f8674ca1962540508d74bd20f1950f30",
            "33cc376ef4d34267b35c8351c06cb53b",
            "bc0e82ffc13940e99b75045abe34ca40",
            "ab05bbbb870c472c9a13c6221f6bf3ca",
            "d22dbd202017401ea4c6d279d80aafd2",
            "913e0257fc4e4f3f94bdd175f677e44f"
          ]
        }
      },
      "source": [
        "# Do-it-yourself Bagging Ensemble of Decision Trees (like a Random Forest)\n",
        "def diy_bagging(max_depth=1, n_estimators=1):\n",
        "    y_preds = []\n",
        "    for i in range(n_estimators):\n",
        "        title = f'Tree {i+1}'\n",
        "        bootstrap_sample = putts.sample(n=len(putts), replace=True).sort_values(by='distance')\n",
        "        bootstrap_X = bootstrap_sample[['distance']]\n",
        "        bootstrap_y = bootstrap_sample['rate of success']\n",
        "        tree = DecisionTreeRegressor(max_depth=max_depth)\n",
        "        tree.fit(bootstrap_X, bootstrap_y)\n",
        "        y_pred = tree.predict(bootstrap_X)\n",
        "        y_preds.append(y_pred)\n",
        "        ax = bootstrap_sample.plot('distance', 'rate of success', kind='scatter', title=title)\n",
        "        ax.step(bootstrap_X, y_pred, where='mid')\n",
        "        plt.show()\n",
        "        \n",
        "    ensembled = np.vstack(y_preds).mean(axis=0)\n",
        "    title = f'Ensemble of {n_estimators} trees, with max_depth={max_depth}'\n",
        "    ax = putts.plot('distance', 'rate of success', kind='scatter', title=title)\n",
        "    ax.step(putts_X, ensembled, where='mid')\n",
        "    plt.show()\n",
        "    \n",
        "interact(diy_bagging, max_depth=(1,6,1), n_estimators=(2,5,1));"
      ],
      "execution_count": 0,
      "outputs": [
        {
          "output_type": "display_data",
          "data": {
            "application/vnd.jupyter.widget-view+json": {
              "model_id": "0da69dc153384a678a9a9b010b17900f",
              "version_minor": 0,
              "version_major": 2
            },
            "text/plain": [
              "interactive(children=(IntSlider(value=1, description='max_depth', max=6, min=1), IntSlider(value=2, descriptio…"
            ]
          },
          "metadata": {
            "tags": []
          }
        }
      ]
    },
    {
      "cell_type": "markdown",
      "metadata": {
        "id": "SNwR-kjn4o7W",
        "colab_type": "text"
      },
      "source": [
        "**Go back to Tanzania Waterpumps ...**\n",
        "\n",
        "**Helper function to visualize predicted probabilities**"
      ]
    },
    {
      "cell_type": "code",
      "metadata": {
        "id": "5WNOSaOg4WHt",
        "colab_type": "code",
        "colab": {}
      },
      "source": [
        "import itertools\n",
        "import seaborn as sns\n",
        "\n",
        "def pred_heatmap(model, X, features, class_index=-1, title='', num=100):\n",
        "    \"\"\"\n",
        "    Visualize predicted probabilities, for classifier fit on 2 numeric features\n",
        "    \n",
        "    Parameters\n",
        "    ----------\n",
        "    model : scikit-learn classifier, already fit\n",
        "    X : pandas dataframe, which was used to fit model\n",
        "    features : list of strings, column names of the 2 numeric features\n",
        "    class_index : integer, index of class label\n",
        "    title : string, title of plot\n",
        "    num : int, number of grid points for each feature\n",
        "    \n",
        "    Returns\n",
        "    -------\n",
        "    y_pred_proba : numpy array, predicted probabilities for class_index\n",
        "    \"\"\"\n",
        "    feature1, feature2 = features\n",
        "    min1, max1 = X[feature1].min(), X[feature1].max()\n",
        "    min2, max2 = X[feature2].min(), X[feature2].max()\n",
        "    x1 = np.linspace(min1, max1, num)\n",
        "    x2 = np.linspace(max2, min2, num)\n",
        "    combos = list(itertools.product(x1, x2))\n",
        "    y_pred_proba = model.predict_proba(combos)[:, class_index]\n",
        "    pred_grid = y_pred_proba.reshape(num, num).T\n",
        "    table = pd.DataFrame(pred_grid, columns=x1, index=x2)\n",
        "    sns.heatmap(table, vmin=0, vmax=1)\n",
        "    plt.xticks([])\n",
        "    plt.yticks([])\n",
        "    plt.xlabel(feature1)\n",
        "    plt.ylabel(feature2)\n",
        "    plt.title(title)\n",
        "    plt.show()\n",
        "    return y_pred_proba"
      ],
      "execution_count": 0,
      "outputs": []
    },
    {
      "cell_type": "markdown",
      "metadata": {
        "id": "5nW-7pmJ42GW",
        "colab_type": "text"
      },
      "source": [
        "**Compare Decision Tree, Random Forest, Logistic Regression**"
      ]
    },
    {
      "cell_type": "code",
      "metadata": {
        "id": "MDmqcv0W4WBc",
        "colab_type": "code",
        "outputId": "12296dcc-78a6-48d6-eeb8-dc03aba75c9c",
        "colab": {
          "base_uri": "https://localhost:8080/",
          "height": 864,
          "referenced_widgets": [
            "864d024394ee4401a86d4dddd05a6342",
            "f2615afd5f454ff6b2ccf3b32a1de88f",
            "47b4d3c510dd4db399e1268c9e1f04a7",
            "00e4b4af4ba14fabb8c7ef317e0a89a7",
            "66cf20b581b94df8a9d96ad3b6009274",
            "2295116939de4f409d6ecc695399269d",
            "776829f0987a49a2947aefa75af03c1d",
            "d599b654ed524eea8e398952da409811",
            "7be04891bea949e7bff3049011a436a8"
          ]
        }
      },
      "source": [
        "# Instructions\n",
        "# 1. Choose two features\n",
        "# 2. Run this code cell\n",
        "# 3. Interact with the widget sliders\n",
        "feature1 = 'longitude'\n",
        "feature2 = 'quantity'\n",
        "\n",
        "from sklearn.linear_model import LogisticRegression\n",
        "from sklearn.tree import DecisionTreeClassifier\n",
        "\n",
        "def get_X_y(df, feature1, feature2, target):\n",
        "    features = [feature1, feature2]\n",
        "    X = df[features]\n",
        "    y = df[target]\n",
        "    X = X.fillna(X.median())\n",
        "    X = ce.OrdinalEncoder().fit_transform(X)\n",
        "    return X, y\n",
        "\n",
        "def compare_models(max_depth=1, n_estimators=1):\n",
        "    models = [DecisionTreeClassifier(max_depth=max_depth), \n",
        "              RandomForestClassifier(max_depth=max_depth, n_estimators=n_estimators), \n",
        "              LogisticRegression(solver='lbfgs', multi_class='auto')]\n",
        "    \n",
        "    for model in models:\n",
        "        name = model.__class__.__name__\n",
        "        model.fit(X, y)\n",
        "        pred_heatmap(model, X, [feature1, feature2], class_index=0, title=name)\n",
        "\n",
        "X, y = get_X_y(train, feature1, feature2, target='status_group')\n",
        "interact(compare_models, max_depth=(1,6,1), n_estimators=(10,40,10));"
      ],
      "execution_count": 0,
      "outputs": [
        {
          "output_type": "display_data",
          "data": {
            "application/vnd.jupyter.widget-view+json": {
              "model_id": "864d024394ee4401a86d4dddd05a6342",
              "version_minor": 0,
              "version_major": 2
            },
            "text/plain": [
              "interactive(children=(IntSlider(value=1, description='max_depth', max=6, min=1), IntSlider(value=10, descripti…"
            ]
          },
          "metadata": {
            "tags": []
          }
        }
      ]
    },
    {
      "cell_type": "markdown",
      "metadata": {
        "id": "N0uYZC0F4_Rv",
        "colab_type": "text"
      },
      "source": [
        "**Bagging**"
      ]
    },
    {
      "cell_type": "code",
      "metadata": {
        "id": "opg6nml9448r",
        "colab_type": "code",
        "outputId": "60d764e0-2c15-4826-e86b-43b3bfacfb31",
        "colab": {
          "base_uri": "https://localhost:8080/",
          "height": 864,
          "referenced_widgets": [
            "77f201c0ec3d497eac6b04960ce2358d",
            "791fec9f12874b5bb59d03691afa2ebb",
            "b42c7503f7df4504985f2173f4be964a",
            "cffecd4e01184e07bce51c0cd9f5dd1a",
            "6a13a68be4e6485f98d84352650e65c4",
            "8246a9fb5b6345bfb5ef757e1a81bdac",
            "d846ff0b0e1546e6b9e8cee32cbcf608",
            "83b425e00f754041be9ffe032fcfd248",
            "2402d379f52b493b907f3f42d17a6c29"
          ]
        }
      },
      "source": [
        "# Do-it-yourself Bagging Ensemble of Decision Trees (like a Random Forest)\n",
        "\n",
        "# Instructions\n",
        "# 1. Choose two features\n",
        "# 2. Run this code cell\n",
        "# 3. Interact with the widget sliders\n",
        "\n",
        "feature1 = 'quantity'\n",
        "feature2 = 'extraction_type_group'\n",
        "\n",
        "def waterpumps_bagging(max_depth=1, n_estimators=1):\n",
        "    predicteds = []\n",
        "    for i in range(n_estimators):\n",
        "        title = f'Tree {i+1}'\n",
        "        bootstrap_sample = train.sample(n=len(train), replace=True)\n",
        "        X, y = get_X_y(bootstrap_sample, feature1, feature2, target='status_group')\n",
        "        tree = DecisionTreeClassifier(max_depth=max_depth)\n",
        "        tree.fit(X, y)\n",
        "        predicted = pred_heatmap(tree, X, [feature1, feature2], class_index=0, title=title)\n",
        "        predicteds.append(predicted)\n",
        "    \n",
        "    ensembled = np.vstack(predicteds).mean(axis=0)\n",
        "    title = f'Ensemble of {n_estimators} trees, with max_depth={max_depth}'\n",
        "    sns.heatmap(ensembled.reshape(100, 100).T, vmin=0, vmax=1)\n",
        "    plt.title(title)\n",
        "    plt.xlabel(feature1)\n",
        "    plt.ylabel(feature2)\n",
        "    plt.xticks([])\n",
        "    plt.yticks([])\n",
        "    plt.show()\n",
        "        \n",
        "interact(waterpumps_bagging, max_depth=(1,6,1), n_estimators=(2,5,1));"
      ],
      "execution_count": 0,
      "outputs": [
        {
          "output_type": "display_data",
          "data": {
            "application/vnd.jupyter.widget-view+json": {
              "model_id": "77f201c0ec3d497eac6b04960ce2358d",
              "version_minor": 0,
              "version_major": 2
            },
            "text/plain": [
              "interactive(children=(IntSlider(value=1, description='max_depth', max=6, min=1), IntSlider(value=2, descriptio…"
            ]
          },
          "metadata": {
            "tags": []
          }
        }
      ]
    },
    {
      "cell_type": "code",
      "metadata": {
        "id": "S3OopZva45N-",
        "colab_type": "code",
        "colab": {}
      },
      "source": [
        ""
      ],
      "execution_count": 0,
      "outputs": []
    },
    {
      "cell_type": "code",
      "metadata": {
        "id": "HgJRiO-f45J-",
        "colab_type": "code",
        "colab": {}
      },
      "source": [
        ""
      ],
      "execution_count": 0,
      "outputs": []
    },
    {
      "cell_type": "code",
      "metadata": {
        "id": "-074ZrN945Fz",
        "colab_type": "code",
        "colab": {}
      },
      "source": [
        ""
      ],
      "execution_count": 0,
      "outputs": []
    }
  ]
}